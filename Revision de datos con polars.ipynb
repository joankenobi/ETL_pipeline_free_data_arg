{
 "cells": [
  {
   "cell_type": "code",
   "execution_count": 1,
   "metadata": {},
   "outputs": [],
   "source": [
    "import polars as pl\n",
    "import pandas as pd\n",
    "import plotly.express as px \n",
    "import requests\n",
    "from datetime import datetime\n",
    "from pathlib import Path\n",
    "from typing import List, Dict\n",
    "import os"
   ]
  },
  {
   "cell_type": "code",
   "execution_count": 2,
   "metadata": {},
   "outputs": [],
   "source": [
    "# constantes\n",
    "MUSEO_URL=\"https://datos.cultura.gob.ar/dataset/37305de4-3cce-4d4b-9d9a-fec3ca61d09f/resource/4207def0-2ff7-41d5-9095-d42ae8207a5d/download/museos_datosabiertos.csv\"\n",
    "CINES_URL=\"https://datos.cultura.gob.ar/dataset/37305de4-3cce-4d4b-9d9a-fec3ca61d09f/resource/f7a8edb8-9208-41b0-8f19-d72811dcea97/download/salas_cine.csv\"\n",
    "ESPACIOS_URL=\"https://datos.cultura.gob.ar/dataset/37305de4-3cce-4d4b-9d9a-fec3ca61d09f/resource/01c6c048-dbeb-44e0-8efa-6944f73715d7/download/11_bibliotecapopular-datos-abiertos.csv\"\n",
    "\n",
    "list_dicts_url=[\n",
    " {\n",
    " \"name\":\"museo\", \"url\":MUSEO_URL    \n",
    " },\n",
    " {\n",
    " \"name\":\"cines\", \"url\":CINES_URL    \n",
    " },\n",
    " {\n",
    " \"name\":\"espacios\", \"url\":ESPACIOS_URL    \n",
    " }\n",
    "]\n",
    "\n",
    "# Path\n",
    "BASE_FILE_DIR = Path(\"C:/Users/joan1/OneDrive/Documentos/Programacion/Python/Analisis de datos publicos ARG/tmp\").resolve()\n",
    "\n",
    "# tricks for iterate with a str path (Yuo can define in places holders)\n",
    "file_path_crib = \"{category}/{year}-{month:02d}/{category}-{day:02d}-{month:02d}-{year}.csv\"\n",
    "\n",
    "norm_cols= [\n",
    "    \"cod_localidad\",\n",
    "    \"id_provincia\",\n",
    "    \"id_departamento\",\n",
    "    \"categoría\",\n",
    "    \"provincia\",\n",
    "    \"localidad\",\n",
    "    \"nombre\",\n",
    "    \"domicilio\",\n",
    "    \"código postal\",\n",
    "    \"número de teléfono\",\n",
    "    \"mail\",\n",
    "    \"web\"\n",
    "]"
   ]
  },
  {
   "cell_type": "markdown",
   "metadata": {},
   "source": [
    "### Funtions"
   ]
  },
  {
   "cell_type": "code",
   "execution_count": 3,
   "metadata": {},
   "outputs": [],
   "source": [
    "def get_response_and_create_csv(data_name:dict) -> pl.DataFrame:\n",
    "    \"\"\"\n",
    "        Get the response from the url and create a csv file with the data\n",
    "    \"\"\"\n",
    "    r=requests.get(\n",
    "        url=data_name[\"url\"]\n",
    "    )\n",
    "    r.encoding= \"utf-8\"\n",
    "\n",
    "    now = datetime.now()\n",
    "    category= data_name[\"name\"]\n",
    "\n",
    "    # create files and fill the places holders\n",
    "    file_path = BASE_FILE_DIR.joinpath(file_path_crib.format(category=category, \n",
    "                                                             year=now.year, \n",
    "                                                             month=now.month, \n",
    "                                                             day=now.day))\n",
    "    # create the file\n",
    "    file_path.parent.mkdir(parents=True, exist_ok=True)\n",
    "\n",
    "    with open(file=file_path, mode=\"w\") as f:\n",
    "        f.write(r.text)\n",
    "\n",
    "    return pl.read_csv(file_path, encoding=\"latin-1\")\n",
    "\n",
    "def columns_rename(df:pl.DataFrame, old_colums, new_columns):\n",
    "    \"\"\"\n",
    "        Exchange the old columns names for the new columns names\n",
    "    \"\"\"\n",
    "    list_changes = [{old:new} for old, new in zip(old_colums, new_columns)]\n",
    "\n",
    "    for d in list_changes:\n",
    "        try:\n",
    "            df = df.rename(\n",
    "                d\n",
    "            )    \n",
    "        except Exception:\n",
    "            continue\n",
    "    return df\n"
   ]
  },
  {
   "cell_type": "markdown",
   "metadata": {},
   "source": [
    "### Peticion get para obtener datos"
   ]
  },
  {
   "cell_type": "code",
   "execution_count": 4,
   "metadata": {},
   "outputs": [],
   "source": [
    "# r=requests.get(\"https://datos.gob.ar/dataset/cultura-mapa-cultural-espacios-culturales/archivo/cultura_4207def0-2ff7-41d5-9095-d42ae8207a5d\")\n",
    "r=requests.get(\"https://datos.cultura.gob.ar/dataset/37305de4-3cce-4d4b-9d9a-fec3ca61d09f/resource/4207def0-2ff7-41d5-9095-d42ae8207a5d/download/museos_datosabiertos.csv\")\n",
    "r.encoding= \"utf-8\""
   ]
  },
  {
   "cell_type": "code",
   "execution_count": 5,
   "metadata": {},
   "outputs": [],
   "source": [
    "with open(\"open\",\"w\") as f_out: \n",
    "    f_out.write(r.text)"
   ]
  },
  {
   "cell_type": "code",
   "execution_count": 6,
   "metadata": {},
   "outputs": [
    {
     "data": {
      "text/html": [
       "<div>\n",
       "<style scoped>\n",
       "    .dataframe tbody tr th:only-of-type {\n",
       "        vertical-align: middle;\n",
       "    }\n",
       "\n",
       "    .dataframe tbody tr th {\n",
       "        vertical-align: top;\n",
       "    }\n",
       "\n",
       "    .dataframe thead th {\n",
       "        text-align: right;\n",
       "    }\n",
       "</style>\n",
       "<table border=\"1\" class=\"dataframe\">\n",
       "  <thead>\n",
       "    <tr style=\"text-align: right;\">\n",
       "      <th></th>\n",
       "      <th>Cod_Loc</th>\n",
       "      <th>IdProvincia</th>\n",
       "      <th>IdDepartamento</th>\n",
       "      <th>Observaciones</th>\n",
       "      <th>categoria</th>\n",
       "      <th>subcategoria</th>\n",
       "      <th>provincia</th>\n",
       "      <th>localidad</th>\n",
       "      <th>nombre</th>\n",
       "      <th>direccion</th>\n",
       "      <th>...</th>\n",
       "      <th>Mail</th>\n",
       "      <th>Web</th>\n",
       "      <th>Latitud</th>\n",
       "      <th>Longitud</th>\n",
       "      <th>TipoLatitudLongitud</th>\n",
       "      <th>Info_adicional</th>\n",
       "      <th>fuente</th>\n",
       "      <th>jurisdiccion</th>\n",
       "      <th>año_inauguracion</th>\n",
       "      <th>actualizacion</th>\n",
       "    </tr>\n",
       "  </thead>\n",
       "  <tbody>\n",
       "    <tr>\n",
       "      <th>0</th>\n",
       "      <td>6588100</td>\n",
       "      <td>6</td>\n",
       "      <td>6588</td>\n",
       "      <td>NaN</td>\n",
       "      <td>Espacios de Exhibición Patrimonial</td>\n",
       "      <td>Museos</td>\n",
       "      <td>Buenos Aires</td>\n",
       "      <td>9 de Julio</td>\n",
       "      <td>Archivo Y Museo Histórico Gral. Julio De Vedia</td>\n",
       "      <td>Libertad 1191</td>\n",
       "      <td>...</td>\n",
       "      <td>archivoymuseo@yahoo.com.ar</td>\n",
       "      <td>www.portaldel9.com.ar</td>\n",
       "      <td>-35.441762</td>\n",
       "      <td>-60.887598</td>\n",
       "      <td>Localización precisa</td>\n",
       "      <td>NaN</td>\n",
       "      <td>DNPyM</td>\n",
       "      <td>Municipal</td>\n",
       "      <td>1920.0</td>\n",
       "      <td>2017</td>\n",
       "    </tr>\n",
       "    <tr>\n",
       "      <th>1</th>\n",
       "      <td>6077010</td>\n",
       "      <td>6</td>\n",
       "      <td>6077</td>\n",
       "      <td>NaN</td>\n",
       "      <td>Espacios de Exhibición Patrimonial</td>\n",
       "      <td>Museos</td>\n",
       "      <td>Buenos Aires</td>\n",
       "      <td>Arrecifes</td>\n",
       "      <td>Museo Y Archivo Histórico De Arrecifes</td>\n",
       "      <td>Gerardo Risso y España</td>\n",
       "      <td>...</td>\n",
       "      <td>museoarrecifes@hotmail.com</td>\n",
       "      <td>NaN</td>\n",
       "      <td>-34.066970</td>\n",
       "      <td>-60.102555</td>\n",
       "      <td>Localización precisa</td>\n",
       "      <td>NaN</td>\n",
       "      <td>DNPyM</td>\n",
       "      <td>Municipal</td>\n",
       "      <td>1972.0</td>\n",
       "      <td>2017</td>\n",
       "    </tr>\n",
       "    <tr>\n",
       "      <th>2</th>\n",
       "      <td>6035010</td>\n",
       "      <td>6</td>\n",
       "      <td>6035</td>\n",
       "      <td>NaN</td>\n",
       "      <td>Espacios de Exhibición Patrimonial</td>\n",
       "      <td>Museos</td>\n",
       "      <td>Buenos Aires</td>\n",
       "      <td>Avellaneda</td>\n",
       "      <td>Museo Histórico-Sacro  Hno. Rogelio Scortegagna</td>\n",
       "      <td>Calle 11 (Av. San Martín) Nº 830</td>\n",
       "      <td>...</td>\n",
       "      <td>NaN</td>\n",
       "      <td>NaN</td>\n",
       "      <td>-29.118024</td>\n",
       "      <td>-59.654543</td>\n",
       "      <td>Localización precisa</td>\n",
       "      <td>NaN</td>\n",
       "      <td>DNPyM</td>\n",
       "      <td>Municipal</td>\n",
       "      <td>NaN</td>\n",
       "      <td>2017</td>\n",
       "    </tr>\n",
       "    <tr>\n",
       "      <th>3</th>\n",
       "      <td>6035010</td>\n",
       "      <td>6</td>\n",
       "      <td>6035</td>\n",
       "      <td>NaN</td>\n",
       "      <td>Espacios de Exhibición Patrimonial</td>\n",
       "      <td>Museos</td>\n",
       "      <td>Buenos Aires</td>\n",
       "      <td>Avellaneda</td>\n",
       "      <td>Museo Municipal De Artes Plásticas De Avellaneda</td>\n",
       "      <td>Sarmiento 101, 1 º Piso</td>\n",
       "      <td>...</td>\n",
       "      <td>NaN</td>\n",
       "      <td>NaN</td>\n",
       "      <td>-34.662110</td>\n",
       "      <td>-58.363270</td>\n",
       "      <td>Localización precisa</td>\n",
       "      <td>NaN</td>\n",
       "      <td>DNPyM</td>\n",
       "      <td>Municipal</td>\n",
       "      <td>1956.0</td>\n",
       "      <td>2017</td>\n",
       "    </tr>\n",
       "    <tr>\n",
       "      <th>4</th>\n",
       "      <td>6049020</td>\n",
       "      <td>6</td>\n",
       "      <td>6049</td>\n",
       "      <td>NaN</td>\n",
       "      <td>Espacios de Exhibición Patrimonial</td>\n",
       "      <td>Museos</td>\n",
       "      <td>Buenos Aires</td>\n",
       "      <td>Azul</td>\n",
       "      <td>Museo Etnográfico Y Archivo Histórico Enrique ...</td>\n",
       "      <td>Bartolomé J. Ronco 654</td>\n",
       "      <td>...</td>\n",
       "      <td>museoazul@yahoo.com</td>\n",
       "      <td>NaN</td>\n",
       "      <td>-36.781824</td>\n",
       "      <td>-59.858636</td>\n",
       "      <td>Localización precisa</td>\n",
       "      <td>NaN</td>\n",
       "      <td>DNPyM</td>\n",
       "      <td>Privada</td>\n",
       "      <td>1949.0</td>\n",
       "      <td>2017</td>\n",
       "    </tr>\n",
       "    <tr>\n",
       "      <th>...</th>\n",
       "      <td>...</td>\n",
       "      <td>...</td>\n",
       "      <td>...</td>\n",
       "      <td>...</td>\n",
       "      <td>...</td>\n",
       "      <td>...</td>\n",
       "      <td>...</td>\n",
       "      <td>...</td>\n",
       "      <td>...</td>\n",
       "      <td>...</td>\n",
       "      <td>...</td>\n",
       "      <td>...</td>\n",
       "      <td>...</td>\n",
       "      <td>...</td>\n",
       "      <td>...</td>\n",
       "      <td>...</td>\n",
       "      <td>...</td>\n",
       "      <td>...</td>\n",
       "      <td>...</td>\n",
       "      <td>...</td>\n",
       "      <td>...</td>\n",
       "    </tr>\n",
       "    <tr>\n",
       "      <th>1177</th>\n",
       "      <td>90098040</td>\n",
       "      <td>90</td>\n",
       "      <td>90098</td>\n",
       "      <td>NaN</td>\n",
       "      <td>Espacios de Exhibición Patrimonial</td>\n",
       "      <td>Museos</td>\n",
       "      <td>Tucumán</td>\n",
       "      <td>Tafí del Valle</td>\n",
       "      <td>Museo Histórico Y Arqueológico Jesuítico La Banda</td>\n",
       "      <td>La Banda S/N</td>\n",
       "      <td>...</td>\n",
       "      <td>NaN</td>\n",
       "      <td>NaN</td>\n",
       "      <td>-26.852880</td>\n",
       "      <td>-65.712622</td>\n",
       "      <td>Localización precisa</td>\n",
       "      <td>NaN</td>\n",
       "      <td>DNPyM</td>\n",
       "      <td>NaN</td>\n",
       "      <td>NaN</td>\n",
       "      <td>2017</td>\n",
       "    </tr>\n",
       "    <tr>\n",
       "      <th>1178</th>\n",
       "      <td>90105080</td>\n",
       "      <td>90</td>\n",
       "      <td>90105</td>\n",
       "      <td>NaN</td>\n",
       "      <td>Espacios de Exhibición Patrimonial</td>\n",
       "      <td>Museos</td>\n",
       "      <td>Tucumán</td>\n",
       "      <td>Tafí Viejo</td>\n",
       "      <td>Mac-Museo Arqueológico El Cadillal</td>\n",
       "      <td>Centro Principal el Cadillal</td>\n",
       "      <td>...</td>\n",
       "      <td>NaN</td>\n",
       "      <td>NaN</td>\n",
       "      <td>-26.683331</td>\n",
       "      <td>-65.266670</td>\n",
       "      <td>Localización precisa</td>\n",
       "      <td>NaN</td>\n",
       "      <td>DNPyM</td>\n",
       "      <td>Provincial</td>\n",
       "      <td>NaN</td>\n",
       "      <td>2017</td>\n",
       "    </tr>\n",
       "    <tr>\n",
       "      <th>1179</th>\n",
       "      <td>90105080</td>\n",
       "      <td>90</td>\n",
       "      <td>90105</td>\n",
       "      <td>NaN</td>\n",
       "      <td>Espacios de Exhibición Patrimonial</td>\n",
       "      <td>Museos</td>\n",
       "      <td>Tucumán</td>\n",
       "      <td>Tafí Viejo</td>\n",
       "      <td>Museo Ferroviario De Los Talleres De Tafí Viejo</td>\n",
       "      <td>Avda. Pte. Roque Sáenz Peña 234</td>\n",
       "      <td>...</td>\n",
       "      <td>NaN</td>\n",
       "      <td>NaN</td>\n",
       "      <td>-26.740733</td>\n",
       "      <td>-65.263231</td>\n",
       "      <td>Localización precisa</td>\n",
       "      <td>NaN</td>\n",
       "      <td>DNPyM</td>\n",
       "      <td>Privada</td>\n",
       "      <td>1909.0</td>\n",
       "      <td>2017</td>\n",
       "    </tr>\n",
       "    <tr>\n",
       "      <th>1180</th>\n",
       "      <td>90105070</td>\n",
       "      <td>90</td>\n",
       "      <td>90105</td>\n",
       "      <td>NaN</td>\n",
       "      <td>Espacios de Exhibición Patrimonial</td>\n",
       "      <td>Museos</td>\n",
       "      <td>Tucumán</td>\n",
       "      <td>Villa El Cadillal</td>\n",
       "      <td>Museo Arqueológico Dr. Ernesto Padilla</td>\n",
       "      <td>Ernesto Padilla S/N</td>\n",
       "      <td>...</td>\n",
       "      <td>NaN</td>\n",
       "      <td>NaN</td>\n",
       "      <td>-21.937642</td>\n",
       "      <td>-66.052043</td>\n",
       "      <td>Localización precisa</td>\n",
       "      <td>NaN</td>\n",
       "      <td>DNPyM</td>\n",
       "      <td>Provincial</td>\n",
       "      <td>NaN</td>\n",
       "      <td>2017</td>\n",
       "    </tr>\n",
       "    <tr>\n",
       "      <th>1181</th>\n",
       "      <td>90098040</td>\n",
       "      <td>90</td>\n",
       "      <td>90098</td>\n",
       "      <td>NaN</td>\n",
       "      <td>Espacios de Exhibición Patrimonial</td>\n",
       "      <td>Museos</td>\n",
       "      <td>Tucumán</td>\n",
       "      <td>Tafí del Valle</td>\n",
       "      <td>Asentamientos De Menhires En Las Áreas Arqueol...</td>\n",
       "      <td>NaN</td>\n",
       "      <td>...</td>\n",
       "      <td>NaN</td>\n",
       "      <td>www.enteculturaltucuman.gov.ar</td>\n",
       "      <td>-26.852880</td>\n",
       "      <td>-65.712622</td>\n",
       "      <td>Localización precisa</td>\n",
       "      <td>Lugar Histórico</td>\n",
       "      <td>CNMLH - Ente Cultural de Tucumán</td>\n",
       "      <td>Provincial</td>\n",
       "      <td>NaN</td>\n",
       "      <td>2017</td>\n",
       "    </tr>\n",
       "  </tbody>\n",
       "</table>\n",
       "<p>1182 rows × 24 columns</p>\n",
       "</div>"
      ],
      "text/plain": [
       "       Cod_Loc  IdProvincia  IdDepartamento  Observaciones  \\\n",
       "0      6588100            6            6588            NaN   \n",
       "1      6077010            6            6077            NaN   \n",
       "2      6035010            6            6035            NaN   \n",
       "3      6035010            6            6035            NaN   \n",
       "4      6049020            6            6049            NaN   \n",
       "...        ...          ...             ...            ...   \n",
       "1177  90098040           90           90098            NaN   \n",
       "1178  90105080           90           90105            NaN   \n",
       "1179  90105080           90           90105            NaN   \n",
       "1180  90105070           90           90105            NaN   \n",
       "1181  90098040           90           90098            NaN   \n",
       "\n",
       "                               categoria subcategoria     provincia  \\\n",
       "0     Espacios de Exhibición Patrimonial       Museos  Buenos Aires   \n",
       "1     Espacios de Exhibición Patrimonial       Museos  Buenos Aires   \n",
       "2     Espacios de Exhibición Patrimonial       Museos  Buenos Aires   \n",
       "3     Espacios de Exhibición Patrimonial       Museos  Buenos Aires   \n",
       "4     Espacios de Exhibición Patrimonial       Museos  Buenos Aires   \n",
       "...                                  ...          ...           ...   \n",
       "1177  Espacios de Exhibición Patrimonial       Museos       Tucumán   \n",
       "1178  Espacios de Exhibición Patrimonial       Museos       Tucumán   \n",
       "1179  Espacios de Exhibición Patrimonial       Museos       Tucumán   \n",
       "1180  Espacios de Exhibición Patrimonial       Museos       Tucumán   \n",
       "1181  Espacios de Exhibición Patrimonial       Museos       Tucumán   \n",
       "\n",
       "              localidad                                             nombre  \\\n",
       "0            9 de Julio     Archivo Y Museo Histórico Gral. Julio De Vedia   \n",
       "1             Arrecifes             Museo Y Archivo Histórico De Arrecifes   \n",
       "2            Avellaneda    Museo Histórico-Sacro  Hno. Rogelio Scortegagna   \n",
       "3            Avellaneda   Museo Municipal De Artes Plásticas De Avellaneda   \n",
       "4                  Azul  Museo Etnográfico Y Archivo Histórico Enrique ...   \n",
       "...                 ...                                                ...   \n",
       "1177     Tafí del Valle  Museo Histórico Y Arqueológico Jesuítico La Banda   \n",
       "1178         Tafí Viejo                 Mac-Museo Arqueológico El Cadillal   \n",
       "1179         Tafí Viejo    Museo Ferroviario De Los Talleres De Tafí Viejo   \n",
       "1180  Villa El Cadillal             Museo Arqueológico Dr. Ernesto Padilla   \n",
       "1181     Tafí del Valle  Asentamientos De Menhires En Las Áreas Arqueol...   \n",
       "\n",
       "                             direccion  ...                        Mail  \\\n",
       "0                        Libertad 1191  ...  archivoymuseo@yahoo.com.ar   \n",
       "1               Gerardo Risso y España  ...  museoarrecifes@hotmail.com   \n",
       "2     Calle 11 (Av. San Martín) Nº 830  ...                         NaN   \n",
       "3              Sarmiento 101, 1 º Piso  ...                         NaN   \n",
       "4               Bartolomé J. Ronco 654  ...         museoazul@yahoo.com   \n",
       "...                                ...  ...                         ...   \n",
       "1177                      La Banda S/N  ...                         NaN   \n",
       "1178      Centro Principal el Cadillal  ...                         NaN   \n",
       "1179   Avda. Pte. Roque Sáenz Peña 234  ...                         NaN   \n",
       "1180               Ernesto Padilla S/N  ...                         NaN   \n",
       "1181                               NaN  ...                         NaN   \n",
       "\n",
       "                                 Web    Latitud   Longitud  \\\n",
       "0              www.portaldel9.com.ar -35.441762 -60.887598   \n",
       "1                                NaN -34.066970 -60.102555   \n",
       "2                                NaN -29.118024 -59.654543   \n",
       "3                                NaN -34.662110 -58.363270   \n",
       "4                                NaN -36.781824 -59.858636   \n",
       "...                              ...        ...        ...   \n",
       "1177                             NaN -26.852880 -65.712622   \n",
       "1178                             NaN -26.683331 -65.266670   \n",
       "1179                             NaN -26.740733 -65.263231   \n",
       "1180                             NaN -21.937642 -66.052043   \n",
       "1181  www.enteculturaltucuman.gov.ar -26.852880 -65.712622   \n",
       "\n",
       "       TipoLatitudLongitud   Info_adicional                            fuente  \\\n",
       "0     Localización precisa              NaN                             DNPyM   \n",
       "1     Localización precisa              NaN                             DNPyM   \n",
       "2     Localización precisa              NaN                             DNPyM   \n",
       "3     Localización precisa              NaN                             DNPyM   \n",
       "4     Localización precisa              NaN                             DNPyM   \n",
       "...                    ...              ...                               ...   \n",
       "1177  Localización precisa              NaN                             DNPyM   \n",
       "1178  Localización precisa              NaN                             DNPyM   \n",
       "1179  Localización precisa              NaN                             DNPyM   \n",
       "1180  Localización precisa              NaN                             DNPyM   \n",
       "1181  Localización precisa  Lugar Histórico  CNMLH - Ente Cultural de Tucumán   \n",
       "\n",
       "      jurisdiccion año_inauguracion actualizacion  \n",
       "0        Municipal           1920.0          2017  \n",
       "1        Municipal           1972.0          2017  \n",
       "2        Municipal              NaN          2017  \n",
       "3        Municipal           1956.0          2017  \n",
       "4          Privada           1949.0          2017  \n",
       "...            ...              ...           ...  \n",
       "1177           NaN              NaN          2017  \n",
       "1178    Provincial              NaN          2017  \n",
       "1179       Privada           1909.0          2017  \n",
       "1180    Provincial              NaN          2017  \n",
       "1181    Provincial              NaN          2017  \n",
       "\n",
       "[1182 rows x 24 columns]"
      ]
     },
     "execution_count": 6,
     "metadata": {},
     "output_type": "execute_result"
    }
   ],
   "source": [
    "# pd.read_csv(\"open\", delimiter=\";\", decimal=\",\",encoding=\"utf-8\")\n",
    "#pd.read_csv(\"open\",encoding=\"utf-8-sig\")\n",
    "pd.read_csv(\"open\",encoding=\"latin-1\")"
   ]
  },
  {
   "cell_type": "code",
   "execution_count": 7,
   "metadata": {},
   "outputs": [
    {
     "data": {
      "text/html": [
       "<div><style>\n",
       ".dataframe > thead > tr > th,\n",
       ".dataframe > tbody > tr > td {\n",
       "  text-align: right;\n",
       "  white-space: pre-wrap;\n",
       "}\n",
       "</style>\n",
       "<small>shape: (1_182, 24)</small><table border=\"1\" class=\"dataframe\"><thead><tr><th>Cod_Loc</th><th>IdProvincia</th><th>IdDepartamento</th><th>Observaciones</th><th>categoria</th><th>subcategoria</th><th>provincia</th><th>localidad</th><th>nombre</th><th>direccion</th><th>piso</th><th>CP</th><th>cod_area</th><th>telefono</th><th>Mail</th><th>Web</th><th>Latitud</th><th>Longitud</th><th>TipoLatitudLongitud</th><th>Info_adicional</th><th>fuente</th><th>jurisdiccion</th><th>año_inauguracion</th><th>actualizacion</th></tr><tr><td>i64</td><td>i64</td><td>i64</td><td>str</td><td>str</td><td>str</td><td>str</td><td>str</td><td>str</td><td>str</td><td>str</td><td>str</td><td>i64</td><td>str</td><td>str</td><td>str</td><td>f64</td><td>f64</td><td>str</td><td>str</td><td>str</td><td>str</td><td>i64</td><td>i64</td></tr></thead><tbody><tr><td>6588100</td><td>6</td><td>6588</td><td>null</td><td>&quot;Espacios de Ex…</td><td>&quot;Museos&quot;</td><td>&quot;Buenos Aires&quot;</td><td>&quot;9 de Julio&quot;</td><td>&quot;Archivo Y Muse…</td><td>&quot;Libertad 1191&quot;</td><td>null</td><td>&quot;B6500EVL&quot;</td><td>2317</td><td>&quot;425 279&quot;</td><td>&quot;archivoymuseo@…</td><td>&quot;www.portaldel9…</td><td>-35.441762</td><td>-60.887598</td><td>&quot;Localización p…</td><td>null</td><td>&quot;DNPyM&quot;</td><td>&quot;Municipal&quot;</td><td>1920</td><td>2017</td></tr><tr><td>6077010</td><td>6</td><td>6077</td><td>null</td><td>&quot;Espacios de Ex…</td><td>&quot;Museos&quot;</td><td>&quot;Buenos Aires&quot;</td><td>&quot;Arrecifes&quot;</td><td>&quot;Museo Y Archiv…</td><td>&quot;Gerardo Risso …</td><td>null</td><td>&quot;B2740FMJ&quot;</td><td>2478</td><td>&quot;452 931&quot;</td><td>&quot;museoarrecifes…</td><td>null</td><td>-34.06697</td><td>-60.102555</td><td>&quot;Localización p…</td><td>null</td><td>&quot;DNPyM&quot;</td><td>&quot;Municipal&quot;</td><td>1972</td><td>2017</td></tr><tr><td>6035010</td><td>6</td><td>6035</td><td>null</td><td>&quot;Espacios de Ex…</td><td>&quot;Museos&quot;</td><td>&quot;Buenos Aires&quot;</td><td>&quot;Avellaneda&quot;</td><td>&quot;Museo Históric…</td><td>&quot;Calle 11 (Av. …</td><td>null</td><td>&quot;S3561AKT&quot;</td><td>3482</td><td>&quot;481 200&quot;</td><td>null</td><td>null</td><td>-29.118024</td><td>-59.654543</td><td>&quot;Localización p…</td><td>null</td><td>&quot;DNPyM&quot;</td><td>&quot;Municipal&quot;</td><td>null</td><td>2017</td></tr><tr><td>6035010</td><td>6</td><td>6035</td><td>null</td><td>&quot;Espacios de Ex…</td><td>&quot;Museos&quot;</td><td>&quot;Buenos Aires&quot;</td><td>&quot;Avellaneda&quot;</td><td>&quot;Museo Municipa…</td><td>&quot;Sarmiento 101,…</td><td>null</td><td>&quot;B1870CBC&quot;</td><td>11</td><td>&quot;4205 9567&quot;</td><td>null</td><td>null</td><td>-34.66211</td><td>-58.36327</td><td>&quot;Localización p…</td><td>null</td><td>&quot;DNPyM&quot;</td><td>&quot;Municipal&quot;</td><td>1956</td><td>2017</td></tr><tr><td>6049020</td><td>6</td><td>6049</td><td>null</td><td>&quot;Espacios de Ex…</td><td>&quot;Museos&quot;</td><td>&quot;Buenos Aires&quot;</td><td>&quot;Azul&quot;</td><td>&quot;Museo Etnográf…</td><td>&quot;Bartolomé J. R…</td><td>null</td><td>&quot;B7300XAA&quot;</td><td>2281</td><td>&quot;434 811&quot;</td><td>&quot;museoazul@yaho…</td><td>null</td><td>-36.781824</td><td>-59.858636</td><td>&quot;Localización p…</td><td>null</td><td>&quot;DNPyM&quot;</td><td>&quot;Privada&quot;</td><td>1949</td><td>2017</td></tr><tr><td>6056010</td><td>6</td><td>6056</td><td>null</td><td>&quot;Espacios de Ex…</td><td>&quot;Museos&quot;</td><td>&quot;Buenos Aires&quot;</td><td>&quot;Bahía Blanca&quot;</td><td>&quot;Museo De Bella…</td><td>&quot;Sarmiento 450&quot;</td><td>null</td><td>&quot;B8000HQJ&quot;</td><td>291</td><td>&quot;459 4006&quot;</td><td>&quot;mac@bblanca.co…</td><td>null</td><td>-38.7131</td><td>-62.2622</td><td>&quot;Localización p…</td><td>null</td><td>&quot;DNPyM&quot;</td><td>&quot;Municipal&quot;</td><td>1935</td><td>2017</td></tr><tr><td>6056010</td><td>6</td><td>6056</td><td>null</td><td>&quot;Espacios de Ex…</td><td>&quot;Museos&quot;</td><td>&quot;Buenos Aires&quot;</td><td>&quot;Bahía Blanca&quot;</td><td>&quot;Museo De Cienc…</td><td>&quot;Castelli 3702&quot;</td><td>null</td><td>&quot;B8003APV&quot;</td><td>291</td><td>&quot;488 3266&quot;</td><td>null</td><td>null</td><td>-38.6928</td><td>-62.3087</td><td>&quot;Localización p…</td><td>null</td><td>&quot;DNPyM&quot;</td><td>&quot;Municipal&quot;</td><td>1996</td><td>2017</td></tr><tr><td>6056010</td><td>6</td><td>6056</td><td>null</td><td>&quot;Espacios de Ex…</td><td>&quot;Museos&quot;</td><td>&quot;Buenos Aires&quot;</td><td>&quot;Bahía Blanca&quot;</td><td>&quot;Museo Y Parque…</td><td>&quot;Italia 19&quot;</td><td>null</td><td>&quot;B8000DKA&quot;</td><td>291</td><td>&quot;451 0675&quot;</td><td>null</td><td>null</td><td>-38.724527</td><td>-62.273735</td><td>&quot;Localización p…</td><td>null</td><td>&quot;DNPyM&quot;</td><td>&quot;Privada&quot;</td><td>2006</td><td>2017</td></tr><tr><td>6056010</td><td>6</td><td>6056</td><td>null</td><td>&quot;Espacios de Ex…</td><td>&quot;Museos&quot;</td><td>&quot;Buenos Aires&quot;</td><td>&quot;Bahía Blanca&quot;</td><td>&quot;Museo De Arte …</td><td>&quot;Sarmiento 450&quot;</td><td>null</td><td>&quot;B8000HQJ&quot;</td><td>291</td><td>&quot;459 4006&quot;</td><td>&quot;mac@bblanca.co…</td><td>null</td><td>-38.7131</td><td>-62.2622</td><td>&quot;Localización p…</td><td>null</td><td>&quot;DNPyM&quot;</td><td>&quot;Municipal&quot;</td><td>2008</td><td>2017</td></tr><tr><td>6056010</td><td>6</td><td>6056</td><td>null</td><td>&quot;Espacios de Ex…</td><td>&quot;Museos&quot;</td><td>&quot;Buenos Aires&quot;</td><td>&quot;Bahía Blanca&quot;</td><td>&quot;Museo Y Archiv…</td><td>&quot;Dorrego 116 Su…</td><td>null</td><td>&quot;B8000FLD&quot;</td><td>291</td><td>&quot;456 3117&quot;</td><td>null</td><td>null</td><td>-38.7152</td><td>-62.2603</td><td>&quot;Localización p…</td><td>null</td><td>&quot;DNPyM&quot;</td><td>&quot;Municipal&quot;</td><td>1951</td><td>2017</td></tr><tr><td>6063010</td><td>6</td><td>6063</td><td>null</td><td>&quot;Espacios de Ex…</td><td>&quot;Museos&quot;</td><td>&quot;Buenos Aires&quot;</td><td>&quot;Balcarce&quot;</td><td>&quot;Museo Juan Man…</td><td>&quot;Dardo Rocha y …</td><td>null</td><td>&quot;B7620BGN&quot;</td><td>2266</td><td>&quot;425 540&quot;</td><td>null</td><td>null</td><td>-37.85056</td><td>-58.255192</td><td>&quot;Localización p…</td><td>null</td><td>&quot;DNPyM&quot;</td><td>&quot;Privada&quot;</td><td>1986</td><td>2017</td></tr><tr><td>6063010</td><td>6</td><td>6063</td><td>null</td><td>&quot;Espacios de Ex…</td><td>&quot;Museos&quot;</td><td>&quot;Buenos Aires&quot;</td><td>&quot;Balcarce&quot;</td><td>&quot;Museo Históric…</td><td>&quot;32 y 35 Emplaz…</td><td>null</td><td>&quot;B7620CFA&quot;</td><td>2266</td><td>&quot;421 800&quot;</td><td>null</td><td>null</td><td>-37.85056</td><td>-58.255192</td><td>&quot;Localización p…</td><td>null</td><td>&quot;DNPyM&quot;</td><td>&quot;Municipal&quot;</td><td>2008</td><td>2017</td></tr><tr><td>&hellip;</td><td>&hellip;</td><td>&hellip;</td><td>&hellip;</td><td>&hellip;</td><td>&hellip;</td><td>&hellip;</td><td>&hellip;</td><td>&hellip;</td><td>&hellip;</td><td>&hellip;</td><td>&hellip;</td><td>&hellip;</td><td>&hellip;</td><td>&hellip;</td><td>&hellip;</td><td>&hellip;</td><td>&hellip;</td><td>&hellip;</td><td>&hellip;</td><td>&hellip;</td><td>&hellip;</td><td>&hellip;</td><td>&hellip;</td></tr><tr><td>90084010</td><td>90</td><td>90084</td><td>null</td><td>&quot;Espacios de Ex…</td><td>&quot;Museos&quot;</td><td>&quot;Tucumán&quot;</td><td>&quot;San Miguel de …</td><td>&quot;Museo Casa His…</td><td>&quot;Congreso 141&quot;</td><td>null</td><td>&quot;T4000IEC&quot;</td><td>381</td><td>&quot;431 0826&quot;</td><td>null</td><td>&quot;www.casaindepe…</td><td>-26.8334</td><td>-65.2036</td><td>&quot;Localización p…</td><td>null</td><td>&quot;DNPyM&quot;</td><td>&quot;Nacional&quot;</td><td>1943</td><td>2017</td></tr><tr><td>90084010</td><td>90</td><td>90084</td><td>null</td><td>&quot;Espacios de Ex…</td><td>&quot;Museos&quot;</td><td>&quot;Tucumán&quot;</td><td>&quot;San Miguel de …</td><td>&quot;Museo Folklóri…</td><td>&quot;24 de Septiemb…</td><td>null</td><td>&quot;T4000CNK&quot;</td><td>381</td><td>&quot;421 8250&quot;</td><td>null</td><td>&quot;www.tucumanesc…</td><td>-26.8308</td><td>-65.2056</td><td>&quot;Localización p…</td><td>null</td><td>&quot;DNPyM&quot;</td><td>&quot;Provincial&quot;</td><td>1943</td><td>2017</td></tr><tr><td>90084010</td><td>90</td><td>90084</td><td>null</td><td>&quot;Espacios de Ex…</td><td>&quot;Museos&quot;</td><td>&quot;Tucumán&quot;</td><td>&quot;San Miguel de …</td><td>&quot;Museo Arquidio…</td><td>&quot;Congreso 53&quot;</td><td>null</td><td>&quot;T4000IEA&quot;</td><td>381</td><td>&quot;421 1213&quot;</td><td>null</td><td>null</td><td>-26.8321</td><td>-65.2033</td><td>&quot;Localización p…</td><td>null</td><td>&quot;DNPyM&quot;</td><td>&quot;Privada&quot;</td><td>1968</td><td>2017</td></tr><tr><td>90084010</td><td>90</td><td>90084</td><td>null</td><td>&quot;Espacios de Ex…</td><td>&quot;Museos&quot;</td><td>&quot;Tucumán&quot;</td><td>&quot;San Miguel de …</td><td>&quot;Museo Históric…</td><td>&quot;Congreso 56&quot;</td><td>null</td><td>&quot;T4000IEB&quot;</td><td>381</td><td>&quot;431 1039&quot;</td><td>null</td><td>&quot;www.entecultur…</td><td>-26.8321</td><td>-65.2033</td><td>&quot;Localización p…</td><td>null</td><td>&quot;DNPyM&quot;</td><td>&quot;Provincial&quot;</td><td>1976</td><td>2017</td></tr><tr><td>90084010</td><td>90</td><td>90084</td><td>null</td><td>&quot;Espacios de Ex…</td><td>&quot;Museos&quot;</td><td>&quot;Tucumán&quot;</td><td>&quot;San Miguel de …</td><td>&quot;Museo Del Ejér…</td><td>&quot;25 de Mayo 102…</td><td>null</td><td>&quot;T4001JQC&quot;</td><td>381</td><td>&quot;435 0894&quot;</td><td>&quot;museoejercitot…</td><td>null</td><td>-26.8188</td><td>-65.2017</td><td>&quot;Localización p…</td><td>null</td><td>&quot;DNPyM&quot;</td><td>&quot;Nacional&quot;</td><td>2006</td><td>2017</td></tr><tr><td>90098040</td><td>90</td><td>90098</td><td>null</td><td>&quot;Espacios de Ex…</td><td>&quot;Museos&quot;</td><td>&quot;Tucumán&quot;</td><td>&quot;Tafí del Valle…</td><td>&quot;Museo De Mitos…</td><td>&quot;Ruta Provincia…</td><td>null</td><td>&quot;4000&quot;</td><td>null</td><td>null</td><td>null</td><td>null</td><td>-26.822594</td><td>-65.718395</td><td>&quot;Localización p…</td><td>null</td><td>&quot;DNPyM&quot;</td><td>&quot;Privada&quot;</td><td>null</td><td>2017</td></tr><tr><td>90098040</td><td>90</td><td>90098</td><td>null</td><td>&quot;Espacios de Ex…</td><td>&quot;Museos&quot;</td><td>&quot;Tucumán&quot;</td><td>&quot;Tafí del Valle…</td><td>&quot;Museo Runa De …</td><td>&quot;Av. Belgrano y…</td><td>null</td><td>&quot;4000&quot;</td><td>null</td><td>null</td><td>null</td><td>null</td><td>-26.851696</td><td>-65.711769</td><td>&quot;Localización p…</td><td>null</td><td>&quot;DNPyM&quot;</td><td>null</td><td>null</td><td>2017</td></tr><tr><td>90098040</td><td>90</td><td>90098</td><td>null</td><td>&quot;Espacios de Ex…</td><td>&quot;Museos&quot;</td><td>&quot;Tucumán&quot;</td><td>&quot;Tafí del Valle…</td><td>&quot;Museo Históric…</td><td>&quot;La Banda S/N&quot;</td><td>null</td><td>&quot;4000&quot;</td><td>3867</td><td>&quot;421 685&quot;</td><td>null</td><td>null</td><td>-26.85288</td><td>-65.712622</td><td>&quot;Localización p…</td><td>null</td><td>&quot;DNPyM&quot;</td><td>null</td><td>null</td><td>2017</td></tr><tr><td>90105080</td><td>90</td><td>90105</td><td>null</td><td>&quot;Espacios de Ex…</td><td>&quot;Museos&quot;</td><td>&quot;Tucumán&quot;</td><td>&quot;Tafí Viejo&quot;</td><td>&quot;Mac-Museo Arqu…</td><td>&quot;Centro Princip…</td><td>null</td><td>null</td><td>null</td><td>null</td><td>null</td><td>null</td><td>-26.683331</td><td>-65.26667</td><td>&quot;Localización p…</td><td>null</td><td>&quot;DNPyM&quot;</td><td>&quot;Provincial&quot;</td><td>null</td><td>2017</td></tr><tr><td>90105080</td><td>90</td><td>90105</td><td>null</td><td>&quot;Espacios de Ex…</td><td>&quot;Museos&quot;</td><td>&quot;Tucumán&quot;</td><td>&quot;Tafí Viejo&quot;</td><td>&quot;Museo Ferrovia…</td><td>&quot;Avda. Pte. Roq…</td><td>null</td><td>&quot;4103&quot;</td><td>381</td><td>&quot;461 4335&quot;</td><td>null</td><td>null</td><td>-26.740733</td><td>-65.263231</td><td>&quot;Localización p…</td><td>null</td><td>&quot;DNPyM&quot;</td><td>&quot;Privada&quot;</td><td>1909</td><td>2017</td></tr><tr><td>90105070</td><td>90</td><td>90105</td><td>null</td><td>&quot;Espacios de Ex…</td><td>&quot;Museos&quot;</td><td>&quot;Tucumán&quot;</td><td>&quot;Villa El Cadil…</td><td>&quot;Museo Arqueoló…</td><td>&quot;Ernesto Padill…</td><td>null</td><td>&quot;4101&quot;</td><td>381</td><td>&quot;422 2199&quot;</td><td>null</td><td>null</td><td>-21.937642</td><td>-66.052043</td><td>&quot;Localización p…</td><td>null</td><td>&quot;DNPyM&quot;</td><td>&quot;Provincial&quot;</td><td>null</td><td>2017</td></tr><tr><td>90098040</td><td>90</td><td>90098</td><td>null</td><td>&quot;Espacios de Ex…</td><td>&quot;Museos&quot;</td><td>&quot;Tucumán&quot;</td><td>&quot;Tafí del Valle…</td><td>&quot;Asentamientos …</td><td>null</td><td>null</td><td>null</td><td>null</td><td>null</td><td>null</td><td>&quot;www.entecultur…</td><td>-26.85288</td><td>-65.712622</td><td>&quot;Localización p…</td><td>&quot;Lugar Históric…</td><td>&quot;CNMLH - Ente C…</td><td>&quot;Provincial&quot;</td><td>null</td><td>2017</td></tr></tbody></table></div>"
      ],
      "text/plain": [
       "shape: (1_182, 24)\n",
       "┌──────────┬───────────┬───────────┬───────────┬───┬───────────┬───────────┬───────────┬───────────┐\n",
       "│ Cod_Loc  ┆ IdProvinc ┆ IdDeparta ┆ Observaci ┆ … ┆ fuente    ┆ jurisdicc ┆ año_inaug ┆ actualiza │\n",
       "│ ---      ┆ ia        ┆ mento     ┆ ones      ┆   ┆ ---       ┆ ion       ┆ uracion   ┆ cion      │\n",
       "│ i64      ┆ ---       ┆ ---       ┆ ---       ┆   ┆ str       ┆ ---       ┆ ---       ┆ ---       │\n",
       "│          ┆ i64       ┆ i64       ┆ str       ┆   ┆           ┆ str       ┆ i64       ┆ i64       │\n",
       "╞══════════╪═══════════╪═══════════╪═══════════╪═══╪═══════════╪═══════════╪═══════════╪═══════════╡\n",
       "│ 6588100  ┆ 6         ┆ 6588      ┆ null      ┆ … ┆ DNPyM     ┆ Municipal ┆ 1920      ┆ 2017      │\n",
       "│ 6077010  ┆ 6         ┆ 6077      ┆ null      ┆ … ┆ DNPyM     ┆ Municipal ┆ 1972      ┆ 2017      │\n",
       "│ 6035010  ┆ 6         ┆ 6035      ┆ null      ┆ … ┆ DNPyM     ┆ Municipal ┆ null      ┆ 2017      │\n",
       "│ 6035010  ┆ 6         ┆ 6035      ┆ null      ┆ … ┆ DNPyM     ┆ Municipal ┆ 1956      ┆ 2017      │\n",
       "│ …        ┆ …         ┆ …         ┆ …         ┆ … ┆ …         ┆ …         ┆ …         ┆ …         │\n",
       "│ 90105080 ┆ 90        ┆ 90105     ┆ null      ┆ … ┆ DNPyM     ┆ Provincia ┆ null      ┆ 2017      │\n",
       "│          ┆           ┆           ┆           ┆   ┆           ┆ l         ┆           ┆           │\n",
       "│ 90105080 ┆ 90        ┆ 90105     ┆ null      ┆ … ┆ DNPyM     ┆ Privada   ┆ 1909      ┆ 2017      │\n",
       "│ 90105070 ┆ 90        ┆ 90105     ┆ null      ┆ … ┆ DNPyM     ┆ Provincia ┆ null      ┆ 2017      │\n",
       "│          ┆           ┆           ┆           ┆   ┆           ┆ l         ┆           ┆           │\n",
       "│ 90098040 ┆ 90        ┆ 90098     ┆ null      ┆ … ┆ CNMLH -   ┆ Provincia ┆ null      ┆ 2017      │\n",
       "│          ┆           ┆           ┆           ┆   ┆ Ente      ┆ l         ┆           ┆           │\n",
       "│          ┆           ┆           ┆           ┆   ┆ Cultural  ┆           ┆           ┆           │\n",
       "│          ┆           ┆           ┆           ┆   ┆ de        ┆           ┆           ┆           │\n",
       "│          ┆           ┆           ┆           ┆   ┆ Tucumán   ┆           ┆           ┆           │\n",
       "└──────────┴───────────┴───────────┴───────────┴───┴───────────┴───────────┴───────────┴───────────┘"
      ]
     },
     "execution_count": 7,
     "metadata": {},
     "output_type": "execute_result"
    }
   ],
   "source": [
    "pl.read_csv(\"open\", encoding= \"latin-1\")"
   ]
  },
  {
   "cell_type": "markdown",
   "metadata": {},
   "source": [
    "### museo"
   ]
  },
  {
   "cell_type": "code",
   "execution_count": 8,
   "metadata": {},
   "outputs": [],
   "source": [
    "df_museo = get_response_and_create_csv(list_dicts_url[0])"
   ]
  },
  {
   "cell_type": "code",
   "execution_count": 9,
   "metadata": {},
   "outputs": [
    {
     "data": {
      "text/html": [
       "<div><style>\n",
       ".dataframe > thead > tr > th,\n",
       ".dataframe > tbody > tr > td {\n",
       "  text-align: right;\n",
       "  white-space: pre-wrap;\n",
       "}\n",
       "</style>\n",
       "<small>shape: (9, 25)</small><table border=\"1\" class=\"dataframe\"><thead><tr><th>describe</th><th>Cod_Loc</th><th>IdProvincia</th><th>IdDepartamento</th><th>Observaciones</th><th>categoria</th><th>subcategoria</th><th>provincia</th><th>localidad</th><th>nombre</th><th>direccion</th><th>piso</th><th>CP</th><th>cod_area</th><th>telefono</th><th>Mail</th><th>Web</th><th>Latitud</th><th>Longitud</th><th>TipoLatitudLongitud</th><th>Info_adicional</th><th>fuente</th><th>jurisdiccion</th><th>año_inauguracion</th><th>actualizacion\r</th></tr><tr><td>str</td><td>f64</td><td>f64</td><td>f64</td><td>str</td><td>str</td><td>str</td><td>str</td><td>str</td><td>str</td><td>str</td><td>str</td><td>str</td><td>f64</td><td>str</td><td>str</td><td>str</td><td>f64</td><td>f64</td><td>str</td><td>str</td><td>str</td><td>str</td><td>f64</td><td>str</td></tr></thead><tbody><tr><td>&quot;count&quot;</td><td>1182.0</td><td>1182.0</td><td>1182.0</td><td>&quot;1182&quot;</td><td>&quot;1182&quot;</td><td>&quot;1182&quot;</td><td>&quot;1182&quot;</td><td>&quot;1182&quot;</td><td>&quot;1182&quot;</td><td>&quot;1182&quot;</td><td>&quot;1182&quot;</td><td>&quot;1182&quot;</td><td>1182.0</td><td>&quot;1182&quot;</td><td>&quot;1182&quot;</td><td>&quot;1182&quot;</td><td>1182.0</td><td>1182.0</td><td>&quot;1182&quot;</td><td>&quot;1182&quot;</td><td>&quot;1182&quot;</td><td>&quot;1182&quot;</td><td>1182.0</td><td>&quot;1182&quot;</td></tr><tr><td>&quot;null_count&quot;</td><td>0.0</td><td>0.0</td><td>0.0</td><td>&quot;1182&quot;</td><td>&quot;0&quot;</td><td>&quot;133&quot;</td><td>&quot;0&quot;</td><td>&quot;0&quot;</td><td>&quot;0&quot;</td><td>&quot;18&quot;</td><td>&quot;1182&quot;</td><td>&quot;66&quot;</td><td>193.0</td><td>&quot;194&quot;</td><td>&quot;918&quot;</td><td>&quot;1107&quot;</td><td>0.0</td><td>0.0</td><td>&quot;0&quot;</td><td>&quot;1172&quot;</td><td>&quot;0&quot;</td><td>&quot;97&quot;</td><td>539.0</td><td>&quot;0&quot;</td></tr><tr><td>&quot;mean&quot;</td><td>3.8823e7</td><td>38.717428</td><td>38822.78511</td><td>null</td><td>null</td><td>null</td><td>null</td><td>null</td><td>null</td><td>null</td><td>null</td><td>null</td><td>1623.187058</td><td>null</td><td>null</td><td>null</td><td>-33.140116</td><td>-62.718226</td><td>null</td><td>null</td><td>null</td><td>null</td><td>1758.615863</td><td>null</td></tr><tr><td>&quot;std&quot;</td><td>3.0024e7</td><td>30.073683</td><td>30024.414238</td><td>null</td><td>null</td><td>null</td><td>null</td><td>null</td><td>null</td><td>null</td><td>null</td><td>null</td><td>1542.080323</td><td>null</td><td>null</td><td>null</td><td>5.437096</td><td>4.003067</td><td>null</td><td>null</td><td>null</td><td>null</td><td>620.695949</td><td>null</td></tr><tr><td>&quot;min&quot;</td><td>2.00001e6</td><td>2.0</td><td>2000.0</td><td>null</td><td>&quot;Espacios de Ex…</td><td>&quot;Museos&quot;</td><td>&quot;Buenos Aires&quot;</td><td>&quot;25 de Mayo&quot;</td><td>&quot;Academia Argen…</td><td>&quot;1 de Mayo 2152…</td><td>null</td><td>&quot;1104&quot;</td><td>11.0</td><td>&quot;15 4047 509&quot;</td><td>&quot;Amupri2@yahoo.…</td><td>&quot;/aafsantafe.co…</td><td>-54.871872</td><td>-72.334078</td><td>&quot;Centroide por …</td><td>&quot;Casas de la Hi…</td><td>&quot;CNMLH - Enlace…</td><td>&quot;Comunal&quot;</td><td>0.0</td><td>&quot;2017&quot;</td></tr><tr><td>&quot;25%&quot;</td><td>1.003515e7</td><td>10.0</td><td>10035.0</td><td>null</td><td>null</td><td>null</td><td>null</td><td>null</td><td>null</td><td>null</td><td>null</td><td>null</td><td>264.0</td><td>null</td><td>null</td><td>null</td><td>-34.6565</td><td>-65.416138</td><td>null</td><td>null</td><td>null</td><td>null</td><td>1946.0</td><td>null</td></tr><tr><td>&quot;50%&quot;</td><td>3.401402e7</td><td>34.0</td><td>34014.0</td><td>null</td><td>null</td><td>null</td><td>null</td><td>null</td><td>null</td><td>null</td><td>null</td><td>null</td><td>387.0</td><td>null</td><td>null</td><td>null</td><td>-32.857792</td><td>-62.273735</td><td>null</td><td>null</td><td>null</td><td>null</td><td>1981.0</td><td>null</td></tr><tr><td>&quot;75%&quot;</td><td>6.611204e7</td><td>66.0</td><td>66112.0</td><td>null</td><td>null</td><td>null</td><td>null</td><td>null</td><td>null</td><td>null</td><td>null</td><td>null</td><td>3404.0</td><td>null</td><td>null</td><td>null</td><td>-30.914302</td><td>-58.710025</td><td>null</td><td>null</td><td>null</td><td>null</td><td>1998.0</td><td>null</td></tr><tr><td>&quot;max&quot;</td><td>9.401402e7</td><td>94.0</td><td>94014.0</td><td>null</td><td>&quot;Espacios de Ex…</td><td>&quot;Museos&quot;</td><td>&quot;Tucumán&quot;</td><td>&quot;al Norte de In…</td><td>&quot;Yuchan&quot;</td><td>&quot;Árabe Siria y …</td><td>null</td><td>&quot;Z9405AHD&quot;</td><td>8522.0</td><td>&quot;981 518&quot;</td><td>&quot;zoologico@mend…</td><td>&quot;www.wagnermuse…</td><td>-21.937642</td><td>-54.114682</td><td>&quot;Localización p…</td><td>&quot;Templo Religio…</td><td>&quot;Área Gestión C…</td><td>&quot;s/d&quot;</td><td>2017.0</td><td>&quot;2017\r&quot;</td></tr></tbody></table></div>"
      ],
      "text/plain": [
       "shape: (9, 25)\n",
       "┌───────────┬───────────┬───────────┬───────────┬───┬───────────┬───────────┬───────────┬──────────┐\n",
       "│ describe  ┆ Cod_Loc   ┆ IdProvinc ┆ IdDeparta ┆ … ┆ fuente    ┆ jurisdicc ┆ año_inaug ┆ actualiz │\n",
       "│ ---       ┆ ---       ┆ ia        ┆ mento     ┆   ┆ ---       ┆ ion       ┆ uracion   ┆ acion\n",
       "    │\n",
       "│ str       ┆ f64       ┆ ---       ┆ ---       ┆   ┆ str       ┆ ---       ┆ ---       ┆ ---      │\n",
       "│           ┆           ┆ f64       ┆ f64       ┆   ┆           ┆ str       ┆ f64       ┆ str      │\n",
       "╞═══════════╪═══════════╪═══════════╪═══════════╪═══╪═══════════╪═══════════╪═══════════╪══════════╡\n",
       "│ count     ┆ 1182.0    ┆ 1182.0    ┆ 1182.0    ┆ … ┆ 1182      ┆ 1182      ┆ 1182.0    ┆ 1182     │\n",
       "│ null_coun ┆ 0.0       ┆ 0.0       ┆ 0.0       ┆ … ┆ 0         ┆ 97        ┆ 539.0     ┆ 0        │\n",
       "│ t         ┆           ┆           ┆           ┆   ┆           ┆           ┆           ┆          │\n",
       "│ mean      ┆ 3.8823e7  ┆ 38.717428 ┆ 38822.785 ┆ … ┆ null      ┆ null      ┆ 1758.6158 ┆ null     │\n",
       "│           ┆           ┆           ┆ 11        ┆   ┆           ┆           ┆ 63        ┆          │\n",
       "│ std       ┆ 3.0024e7  ┆ 30.073683 ┆ 30024.414 ┆ … ┆ null      ┆ null      ┆ 620.69594 ┆ null     │\n",
       "│           ┆           ┆           ┆ 238       ┆   ┆           ┆           ┆ 9         ┆          │\n",
       "│ min       ┆ 2.00001e6 ┆ 2.0       ┆ 2000.0    ┆ … ┆ CNMLH -   ┆ Comunal   ┆ 0.0       ┆ 2017     │\n",
       "│           ┆           ┆           ┆           ┆   ┆ Enlace    ┆           ┆           ┆          │\n",
       "│           ┆           ┆           ┆           ┆   ┆ SInCA     ┆           ┆           ┆          │\n",
       "│ 25%       ┆ 1.003515e ┆ 10.0      ┆ 10035.0   ┆ … ┆ null      ┆ null      ┆ 1946.0    ┆ null     │\n",
       "│           ┆ 7         ┆           ┆           ┆   ┆           ┆           ┆           ┆          │\n",
       "│ 50%       ┆ 3.401402e ┆ 34.0      ┆ 34014.0   ┆ … ┆ null      ┆ null      ┆ 1981.0    ┆ null     │\n",
       "│           ┆ 7         ┆           ┆           ┆   ┆           ┆           ┆           ┆          │\n",
       "│ 75%       ┆ 6.611204e ┆ 66.0      ┆ 66112.0   ┆ … ┆ null      ┆ null      ┆ 1998.0    ┆ null     │\n",
       "│           ┆ 7         ┆           ┆           ┆   ┆           ┆           ┆           ┆          │\n",
       "│ max       ┆ 9.401402e ┆ 94.0      ┆ 94014.0   ┆ … ┆ Área      ┆ s/d       ┆ 2017.0    ┆ 2017\n",
       "     │\n",
       "│           ┆ 7         ┆           ┆           ┆   ┆ Gestión   ┆           ┆           ┆          │\n",
       "│           ┆           ┆           ┆           ┆   ┆ Cultural  ┆           ┆           ┆          │\n",
       "│           ┆           ┆           ┆           ┆   ┆ de la     ┆           ┆           ┆          │\n",
       "│           ┆           ┆           ┆           ┆   ┆ Muni…     ┆           ┆           ┆          │\n",
       "└───────────┴───────────┴───────────┴───────────┴───┴───────────┴───────────┴───────────┴──────────┘"
      ]
     },
     "execution_count": 9,
     "metadata": {},
     "output_type": "execute_result"
    }
   ],
   "source": [
    "df_museo.describe()"
   ]
  },
  {
   "cell_type": "code",
   "execution_count": 10,
   "metadata": {},
   "outputs": [
    {
     "data": {
      "text/plain": [
       "['Cod_Loc',\n",
       " 'IdProvincia',\n",
       " 'IdDepartamento',\n",
       " 'Observaciones',\n",
       " 'categoria',\n",
       " 'subcategoria',\n",
       " 'provincia',\n",
       " 'localidad',\n",
       " 'nombre',\n",
       " 'direccion',\n",
       " 'piso',\n",
       " 'CP',\n",
       " 'cod_area',\n",
       " 'telefono',\n",
       " 'Mail',\n",
       " 'Web',\n",
       " 'Latitud',\n",
       " 'Longitud',\n",
       " 'TipoLatitudLongitud',\n",
       " 'Info_adicional',\n",
       " 'fuente',\n",
       " 'jurisdiccion',\n",
       " 'año_inauguracion',\n",
       " 'actualizacion\\r']"
      ]
     },
     "execution_count": 10,
     "metadata": {},
     "output_type": "execute_result"
    }
   ],
   "source": [
    "df_museo.columns"
   ]
  },
  {
   "cell_type": "code",
   "execution_count": 11,
   "metadata": {},
   "outputs": [],
   "source": [
    "need_columns = [\n",
    "'Cod_Loc',\n",
    " 'IdProvincia',\n",
    " 'IdDepartamento',\n",
    "#  'Observaciones',\n",
    " 'categoria',\n",
    "#  'subcategoria',\n",
    " 'provincia',\n",
    " 'localidad',\n",
    " 'nombre',\n",
    " 'direccion',\n",
    "#  'piso',\n",
    " 'CP',\n",
    "# 'cod_area',\n",
    " 'telefono',\n",
    " 'Mail',\n",
    " 'Web',\n",
    "#  'Latitud',\n",
    "#  'Longitud',\n",
    "#  'TipoLatitudLongitud',\n",
    "#  'Info_adicional',\n",
    "#  'fuente',\n",
    "#  'jurisdiccion',\n",
    "#  'año_inauguracion',\n",
    "#  'actualizacion\\r'\n",
    "]"
   ]
  },
  {
   "cell_type": "markdown",
   "metadata": {},
   "source": [
    "#### normalizar las columnas"
   ]
  },
  {
   "cell_type": "code",
   "execution_count": 12,
   "metadata": {},
   "outputs": [
    {
     "data": {
      "text/plain": [
       "[{'Cod_Loc': 'cod_localidad'},\n",
       " {'IdProvincia': 'id_provincia'},\n",
       " {'IdDepartamento': 'id_departamento'},\n",
       " {'categoria': 'categoría'},\n",
       " {'provincia': 'provincia'},\n",
       " {'localidad': 'localidad'},\n",
       " {'nombre': 'nombre'},\n",
       " {'direccion': 'domicilio'},\n",
       " {'CP': 'código postal'},\n",
       " {'telefono': 'número de teléfono'},\n",
       " {'Mail': 'mail'},\n",
       " {'Web': 'web'}]"
      ]
     },
     "execution_count": 12,
     "metadata": {},
     "output_type": "execute_result"
    }
   ],
   "source": [
    "list_changes = [{old:new} for old, new in zip(need_columns, norm_cols)]\n",
    "list_changes"
   ]
  },
  {
   "cell_type": "code",
   "execution_count": 13,
   "metadata": {},
   "outputs": [],
   "source": [
    "for d in list_changes:\n",
    "   df_museo = df_museo.rename(\n",
    "        d\n",
    "    )"
   ]
  },
  {
   "cell_type": "code",
   "execution_count": 14,
   "metadata": {},
   "outputs": [
    {
     "data": {
      "text/html": [
       "<div><style>\n",
       ".dataframe > thead > tr > th,\n",
       ".dataframe > tbody > tr > td {\n",
       "  text-align: right;\n",
       "  white-space: pre-wrap;\n",
       "}\n",
       "</style>\n",
       "<small>shape: (1_182, 24)</small><table border=\"1\" class=\"dataframe\"><thead><tr><th>cod_localidad</th><th>id_provincia</th><th>id_departamento</th><th>Observaciones</th><th>categoría</th><th>subcategoria</th><th>provincia</th><th>localidad</th><th>nombre</th><th>domicilio</th><th>piso</th><th>código postal</th><th>cod_area</th><th>número de teléfono</th><th>mail</th><th>web</th><th>Latitud</th><th>Longitud</th><th>TipoLatitudLongitud</th><th>Info_adicional</th><th>fuente</th><th>jurisdiccion</th><th>año_inauguracion</th><th>actualizacion\r</th></tr><tr><td>i64</td><td>i64</td><td>i64</td><td>str</td><td>str</td><td>str</td><td>str</td><td>str</td><td>str</td><td>str</td><td>str</td><td>str</td><td>i64</td><td>str</td><td>str</td><td>str</td><td>f64</td><td>f64</td><td>str</td><td>str</td><td>str</td><td>str</td><td>i64</td><td>str</td></tr></thead><tbody><tr><td>6588100</td><td>6</td><td>6588</td><td>null</td><td>&quot;Espacios de Ex…</td><td>&quot;Museos&quot;</td><td>&quot;Buenos Aires&quot;</td><td>&quot;9 de Julio&quot;</td><td>&quot;Archivo Y Muse…</td><td>&quot;Libertad 1191&quot;</td><td>null</td><td>&quot;B6500EVL&quot;</td><td>2317</td><td>&quot;425 279&quot;</td><td>&quot;archivoymuseo@…</td><td>&quot;www.portaldel9…</td><td>-35.441762</td><td>-60.887598</td><td>&quot;Localización p…</td><td>null</td><td>&quot;DNPyM&quot;</td><td>&quot;Municipal&quot;</td><td>1920</td><td>&quot;2017\r&quot;</td></tr><tr><td>6077010</td><td>6</td><td>6077</td><td>null</td><td>&quot;Espacios de Ex…</td><td>&quot;Museos&quot;</td><td>&quot;Buenos Aires&quot;</td><td>&quot;Arrecifes&quot;</td><td>&quot;Museo Y Archiv…</td><td>&quot;Gerardo Risso …</td><td>null</td><td>&quot;B2740FMJ&quot;</td><td>2478</td><td>&quot;452 931&quot;</td><td>&quot;museoarrecifes…</td><td>null</td><td>-34.06697</td><td>-60.102555</td><td>&quot;Localización p…</td><td>null</td><td>&quot;DNPyM&quot;</td><td>&quot;Municipal&quot;</td><td>1972</td><td>&quot;2017\r&quot;</td></tr><tr><td>6035010</td><td>6</td><td>6035</td><td>null</td><td>&quot;Espacios de Ex…</td><td>&quot;Museos&quot;</td><td>&quot;Buenos Aires&quot;</td><td>&quot;Avellaneda&quot;</td><td>&quot;Museo Históric…</td><td>&quot;Calle 11 (Av. …</td><td>null</td><td>&quot;S3561AKT&quot;</td><td>3482</td><td>&quot;481 200&quot;</td><td>null</td><td>null</td><td>-29.118024</td><td>-59.654543</td><td>&quot;Localización p…</td><td>null</td><td>&quot;DNPyM&quot;</td><td>&quot;Municipal&quot;</td><td>null</td><td>&quot;2017\r&quot;</td></tr><tr><td>6035010</td><td>6</td><td>6035</td><td>null</td><td>&quot;Espacios de Ex…</td><td>&quot;Museos&quot;</td><td>&quot;Buenos Aires&quot;</td><td>&quot;Avellaneda&quot;</td><td>&quot;Museo Municipa…</td><td>&quot;Sarmiento 101,…</td><td>null</td><td>&quot;B1870CBC&quot;</td><td>11</td><td>&quot;4205 9567&quot;</td><td>null</td><td>null</td><td>-34.66211</td><td>-58.36327</td><td>&quot;Localización p…</td><td>null</td><td>&quot;DNPyM&quot;</td><td>&quot;Municipal&quot;</td><td>1956</td><td>&quot;2017\r&quot;</td></tr><tr><td>6049020</td><td>6</td><td>6049</td><td>null</td><td>&quot;Espacios de Ex…</td><td>&quot;Museos&quot;</td><td>&quot;Buenos Aires&quot;</td><td>&quot;Azul&quot;</td><td>&quot;Museo Etnográf…</td><td>&quot;Bartolomé J. R…</td><td>null</td><td>&quot;B7300XAA&quot;</td><td>2281</td><td>&quot;434 811&quot;</td><td>&quot;museoazul@yaho…</td><td>null</td><td>-36.781824</td><td>-59.858636</td><td>&quot;Localización p…</td><td>null</td><td>&quot;DNPyM&quot;</td><td>&quot;Privada&quot;</td><td>1949</td><td>&quot;2017\r&quot;</td></tr><tr><td>6056010</td><td>6</td><td>6056</td><td>null</td><td>&quot;Espacios de Ex…</td><td>&quot;Museos&quot;</td><td>&quot;Buenos Aires&quot;</td><td>&quot;Bahía Blanca&quot;</td><td>&quot;Museo De Bella…</td><td>&quot;Sarmiento 450&quot;</td><td>null</td><td>&quot;B8000HQJ&quot;</td><td>291</td><td>&quot;459 4006&quot;</td><td>&quot;mac@bblanca.co…</td><td>null</td><td>-38.7131</td><td>-62.2622</td><td>&quot;Localización p…</td><td>null</td><td>&quot;DNPyM&quot;</td><td>&quot;Municipal&quot;</td><td>1935</td><td>&quot;2017\r&quot;</td></tr><tr><td>6056010</td><td>6</td><td>6056</td><td>null</td><td>&quot;Espacios de Ex…</td><td>&quot;Museos&quot;</td><td>&quot;Buenos Aires&quot;</td><td>&quot;Bahía Blanca&quot;</td><td>&quot;Museo De Cienc…</td><td>&quot;Castelli 3702&quot;</td><td>null</td><td>&quot;B8003APV&quot;</td><td>291</td><td>&quot;488 3266&quot;</td><td>null</td><td>null</td><td>-38.6928</td><td>-62.3087</td><td>&quot;Localización p…</td><td>null</td><td>&quot;DNPyM&quot;</td><td>&quot;Municipal&quot;</td><td>1996</td><td>&quot;2017\r&quot;</td></tr><tr><td>6056010</td><td>6</td><td>6056</td><td>null</td><td>&quot;Espacios de Ex…</td><td>&quot;Museos&quot;</td><td>&quot;Buenos Aires&quot;</td><td>&quot;Bahía Blanca&quot;</td><td>&quot;Museo Y Parque…</td><td>&quot;Italia 19&quot;</td><td>null</td><td>&quot;B8000DKA&quot;</td><td>291</td><td>&quot;451 0675&quot;</td><td>null</td><td>null</td><td>-38.724527</td><td>-62.273735</td><td>&quot;Localización p…</td><td>null</td><td>&quot;DNPyM&quot;</td><td>&quot;Privada&quot;</td><td>2006</td><td>&quot;2017\r&quot;</td></tr><tr><td>6056010</td><td>6</td><td>6056</td><td>null</td><td>&quot;Espacios de Ex…</td><td>&quot;Museos&quot;</td><td>&quot;Buenos Aires&quot;</td><td>&quot;Bahía Blanca&quot;</td><td>&quot;Museo De Arte …</td><td>&quot;Sarmiento 450&quot;</td><td>null</td><td>&quot;B8000HQJ&quot;</td><td>291</td><td>&quot;459 4006&quot;</td><td>&quot;mac@bblanca.co…</td><td>null</td><td>-38.7131</td><td>-62.2622</td><td>&quot;Localización p…</td><td>null</td><td>&quot;DNPyM&quot;</td><td>&quot;Municipal&quot;</td><td>2008</td><td>&quot;2017\r&quot;</td></tr><tr><td>6056010</td><td>6</td><td>6056</td><td>null</td><td>&quot;Espacios de Ex…</td><td>&quot;Museos&quot;</td><td>&quot;Buenos Aires&quot;</td><td>&quot;Bahía Blanca&quot;</td><td>&quot;Museo Y Archiv…</td><td>&quot;Dorrego 116 Su…</td><td>null</td><td>&quot;B8000FLD&quot;</td><td>291</td><td>&quot;456 3117&quot;</td><td>null</td><td>null</td><td>-38.7152</td><td>-62.2603</td><td>&quot;Localización p…</td><td>null</td><td>&quot;DNPyM&quot;</td><td>&quot;Municipal&quot;</td><td>1951</td><td>&quot;2017\r&quot;</td></tr><tr><td>6063010</td><td>6</td><td>6063</td><td>null</td><td>&quot;Espacios de Ex…</td><td>&quot;Museos&quot;</td><td>&quot;Buenos Aires&quot;</td><td>&quot;Balcarce&quot;</td><td>&quot;Museo Juan Man…</td><td>&quot;Dardo Rocha y …</td><td>null</td><td>&quot;B7620BGN&quot;</td><td>2266</td><td>&quot;425 540&quot;</td><td>null</td><td>null</td><td>-37.85056</td><td>-58.255192</td><td>&quot;Localización p…</td><td>null</td><td>&quot;DNPyM&quot;</td><td>&quot;Privada&quot;</td><td>1986</td><td>&quot;2017\r&quot;</td></tr><tr><td>6063010</td><td>6</td><td>6063</td><td>null</td><td>&quot;Espacios de Ex…</td><td>&quot;Museos&quot;</td><td>&quot;Buenos Aires&quot;</td><td>&quot;Balcarce&quot;</td><td>&quot;Museo Históric…</td><td>&quot;32 y 35 Emplaz…</td><td>null</td><td>&quot;B7620CFA&quot;</td><td>2266</td><td>&quot;421 800&quot;</td><td>null</td><td>null</td><td>-37.85056</td><td>-58.255192</td><td>&quot;Localización p…</td><td>null</td><td>&quot;DNPyM&quot;</td><td>&quot;Municipal&quot;</td><td>2008</td><td>&quot;2017\r&quot;</td></tr><tr><td>&hellip;</td><td>&hellip;</td><td>&hellip;</td><td>&hellip;</td><td>&hellip;</td><td>&hellip;</td><td>&hellip;</td><td>&hellip;</td><td>&hellip;</td><td>&hellip;</td><td>&hellip;</td><td>&hellip;</td><td>&hellip;</td><td>&hellip;</td><td>&hellip;</td><td>&hellip;</td><td>&hellip;</td><td>&hellip;</td><td>&hellip;</td><td>&hellip;</td><td>&hellip;</td><td>&hellip;</td><td>&hellip;</td><td>&hellip;</td></tr><tr><td>90084010</td><td>90</td><td>90084</td><td>null</td><td>&quot;Espacios de Ex…</td><td>&quot;Museos&quot;</td><td>&quot;Tucumán&quot;</td><td>&quot;San Miguel de …</td><td>&quot;Museo Casa His…</td><td>&quot;Congreso 141&quot;</td><td>null</td><td>&quot;T4000IEC&quot;</td><td>381</td><td>&quot;431 0826&quot;</td><td>null</td><td>&quot;www.casaindepe…</td><td>-26.8334</td><td>-65.2036</td><td>&quot;Localización p…</td><td>null</td><td>&quot;DNPyM&quot;</td><td>&quot;Nacional&quot;</td><td>1943</td><td>&quot;2017\r&quot;</td></tr><tr><td>90084010</td><td>90</td><td>90084</td><td>null</td><td>&quot;Espacios de Ex…</td><td>&quot;Museos&quot;</td><td>&quot;Tucumán&quot;</td><td>&quot;San Miguel de …</td><td>&quot;Museo Folklóri…</td><td>&quot;24 de Septiemb…</td><td>null</td><td>&quot;T4000CNK&quot;</td><td>381</td><td>&quot;421 8250&quot;</td><td>null</td><td>&quot;www.tucumanesc…</td><td>-26.8308</td><td>-65.2056</td><td>&quot;Localización p…</td><td>null</td><td>&quot;DNPyM&quot;</td><td>&quot;Provincial&quot;</td><td>1943</td><td>&quot;2017\r&quot;</td></tr><tr><td>90084010</td><td>90</td><td>90084</td><td>null</td><td>&quot;Espacios de Ex…</td><td>&quot;Museos&quot;</td><td>&quot;Tucumán&quot;</td><td>&quot;San Miguel de …</td><td>&quot;Museo Arquidio…</td><td>&quot;Congreso 53&quot;</td><td>null</td><td>&quot;T4000IEA&quot;</td><td>381</td><td>&quot;421 1213&quot;</td><td>null</td><td>null</td><td>-26.8321</td><td>-65.2033</td><td>&quot;Localización p…</td><td>null</td><td>&quot;DNPyM&quot;</td><td>&quot;Privada&quot;</td><td>1968</td><td>&quot;2017\r&quot;</td></tr><tr><td>90084010</td><td>90</td><td>90084</td><td>null</td><td>&quot;Espacios de Ex…</td><td>&quot;Museos&quot;</td><td>&quot;Tucumán&quot;</td><td>&quot;San Miguel de …</td><td>&quot;Museo Históric…</td><td>&quot;Congreso 56&quot;</td><td>null</td><td>&quot;T4000IEB&quot;</td><td>381</td><td>&quot;431 1039&quot;</td><td>null</td><td>&quot;www.entecultur…</td><td>-26.8321</td><td>-65.2033</td><td>&quot;Localización p…</td><td>null</td><td>&quot;DNPyM&quot;</td><td>&quot;Provincial&quot;</td><td>1976</td><td>&quot;2017\r&quot;</td></tr><tr><td>90084010</td><td>90</td><td>90084</td><td>null</td><td>&quot;Espacios de Ex…</td><td>&quot;Museos&quot;</td><td>&quot;Tucumán&quot;</td><td>&quot;San Miguel de …</td><td>&quot;Museo Del Ejér…</td><td>&quot;25 de Mayo 102…</td><td>null</td><td>&quot;T4001JQC&quot;</td><td>381</td><td>&quot;435 0894&quot;</td><td>&quot;museoejercitot…</td><td>null</td><td>-26.8188</td><td>-65.2017</td><td>&quot;Localización p…</td><td>null</td><td>&quot;DNPyM&quot;</td><td>&quot;Nacional&quot;</td><td>2006</td><td>&quot;2017\r&quot;</td></tr><tr><td>90098040</td><td>90</td><td>90098</td><td>null</td><td>&quot;Espacios de Ex…</td><td>&quot;Museos&quot;</td><td>&quot;Tucumán&quot;</td><td>&quot;Tafí del Valle…</td><td>&quot;Museo De Mitos…</td><td>&quot;Ruta Provincia…</td><td>null</td><td>&quot;4000&quot;</td><td>null</td><td>null</td><td>null</td><td>null</td><td>-26.822594</td><td>-65.718395</td><td>&quot;Localización p…</td><td>null</td><td>&quot;DNPyM&quot;</td><td>&quot;Privada&quot;</td><td>null</td><td>&quot;2017\r&quot;</td></tr><tr><td>90098040</td><td>90</td><td>90098</td><td>null</td><td>&quot;Espacios de Ex…</td><td>&quot;Museos&quot;</td><td>&quot;Tucumán&quot;</td><td>&quot;Tafí del Valle…</td><td>&quot;Museo Runa De …</td><td>&quot;Av. Belgrano y…</td><td>null</td><td>&quot;4000&quot;</td><td>null</td><td>null</td><td>null</td><td>null</td><td>-26.851696</td><td>-65.711769</td><td>&quot;Localización p…</td><td>null</td><td>&quot;DNPyM&quot;</td><td>null</td><td>null</td><td>&quot;2017\r&quot;</td></tr><tr><td>90098040</td><td>90</td><td>90098</td><td>null</td><td>&quot;Espacios de Ex…</td><td>&quot;Museos&quot;</td><td>&quot;Tucumán&quot;</td><td>&quot;Tafí del Valle…</td><td>&quot;Museo Históric…</td><td>&quot;La Banda S/N&quot;</td><td>null</td><td>&quot;4000&quot;</td><td>3867</td><td>&quot;421 685&quot;</td><td>null</td><td>null</td><td>-26.85288</td><td>-65.712622</td><td>&quot;Localización p…</td><td>null</td><td>&quot;DNPyM&quot;</td><td>null</td><td>null</td><td>&quot;2017\r&quot;</td></tr><tr><td>90105080</td><td>90</td><td>90105</td><td>null</td><td>&quot;Espacios de Ex…</td><td>&quot;Museos&quot;</td><td>&quot;Tucumán&quot;</td><td>&quot;Tafí Viejo&quot;</td><td>&quot;Mac-Museo Arqu…</td><td>&quot;Centro Princip…</td><td>null</td><td>null</td><td>null</td><td>null</td><td>null</td><td>null</td><td>-26.683331</td><td>-65.26667</td><td>&quot;Localización p…</td><td>null</td><td>&quot;DNPyM&quot;</td><td>&quot;Provincial&quot;</td><td>null</td><td>&quot;2017\r&quot;</td></tr><tr><td>90105080</td><td>90</td><td>90105</td><td>null</td><td>&quot;Espacios de Ex…</td><td>&quot;Museos&quot;</td><td>&quot;Tucumán&quot;</td><td>&quot;Tafí Viejo&quot;</td><td>&quot;Museo Ferrovia…</td><td>&quot;Avda. Pte. Roq…</td><td>null</td><td>&quot;4103&quot;</td><td>381</td><td>&quot;461 4335&quot;</td><td>null</td><td>null</td><td>-26.740733</td><td>-65.263231</td><td>&quot;Localización p…</td><td>null</td><td>&quot;DNPyM&quot;</td><td>&quot;Privada&quot;</td><td>1909</td><td>&quot;2017\r&quot;</td></tr><tr><td>90105070</td><td>90</td><td>90105</td><td>null</td><td>&quot;Espacios de Ex…</td><td>&quot;Museos&quot;</td><td>&quot;Tucumán&quot;</td><td>&quot;Villa El Cadil…</td><td>&quot;Museo Arqueoló…</td><td>&quot;Ernesto Padill…</td><td>null</td><td>&quot;4101&quot;</td><td>381</td><td>&quot;422 2199&quot;</td><td>null</td><td>null</td><td>-21.937642</td><td>-66.052043</td><td>&quot;Localización p…</td><td>null</td><td>&quot;DNPyM&quot;</td><td>&quot;Provincial&quot;</td><td>null</td><td>&quot;2017\r&quot;</td></tr><tr><td>90098040</td><td>90</td><td>90098</td><td>null</td><td>&quot;Espacios de Ex…</td><td>&quot;Museos&quot;</td><td>&quot;Tucumán&quot;</td><td>&quot;Tafí del Valle…</td><td>&quot;Asentamientos …</td><td>null</td><td>null</td><td>null</td><td>null</td><td>null</td><td>null</td><td>&quot;www.entecultur…</td><td>-26.85288</td><td>-65.712622</td><td>&quot;Localización p…</td><td>&quot;Lugar Históric…</td><td>&quot;CNMLH - Ente C…</td><td>&quot;Provincial&quot;</td><td>null</td><td>&quot;2017&quot;</td></tr></tbody></table></div>"
      ],
      "text/plain": [
       "shape: (1_182, 24)\n",
       "┌───────────┬───────────┬───────────┬───────────┬───┬───────────┬───────────┬───────────┬──────────┐\n",
       "│ cod_local ┆ id_provin ┆ id_depart ┆ Observaci ┆ … ┆ fuente    ┆ jurisdicc ┆ año_inaug ┆ actualiz │\n",
       "│ idad      ┆ cia       ┆ amento    ┆ ones      ┆   ┆ ---       ┆ ion       ┆ uracion   ┆ acion\n",
       "    │\n",
       "│ ---       ┆ ---       ┆ ---       ┆ ---       ┆   ┆ str       ┆ ---       ┆ ---       ┆ ---      │\n",
       "│ i64       ┆ i64       ┆ i64       ┆ str       ┆   ┆           ┆ str       ┆ i64       ┆ str      │\n",
       "╞═══════════╪═══════════╪═══════════╪═══════════╪═══╪═══════════╪═══════════╪═══════════╪══════════╡\n",
       "│ 6588100   ┆ 6         ┆ 6588      ┆ null      ┆ … ┆ DNPyM     ┆ Municipal ┆ 1920      ┆ 2017\n",
       "     │\n",
       "│ 6077010   ┆ 6         ┆ 6077      ┆ null      ┆ … ┆ DNPyM     ┆ Municipal ┆ 1972      ┆ 2017\n",
       "     │\n",
       "│ 6035010   ┆ 6         ┆ 6035      ┆ null      ┆ … ┆ DNPyM     ┆ Municipal ┆ null      ┆ 2017\n",
       "     │\n",
       "│ 6035010   ┆ 6         ┆ 6035      ┆ null      ┆ … ┆ DNPyM     ┆ Municipal ┆ 1956      ┆ 2017\n",
       "     │\n",
       "│ …         ┆ …         ┆ …         ┆ …         ┆ … ┆ …         ┆ …         ┆ …         ┆ …        │\n",
       "│ 90105080  ┆ 90        ┆ 90105     ┆ null      ┆ … ┆ DNPyM     ┆ Provincia ┆ null      ┆ 2017\n",
       "     │\n",
       "│           ┆           ┆           ┆           ┆   ┆           ┆ l         ┆           ┆          │\n",
       "│ 90105080  ┆ 90        ┆ 90105     ┆ null      ┆ … ┆ DNPyM     ┆ Privada   ┆ 1909      ┆ 2017\n",
       "     │\n",
       "│ 90105070  ┆ 90        ┆ 90105     ┆ null      ┆ … ┆ DNPyM     ┆ Provincia ┆ null      ┆ 2017\n",
       "     │\n",
       "│           ┆           ┆           ┆           ┆   ┆           ┆ l         ┆           ┆          │\n",
       "│ 90098040  ┆ 90        ┆ 90098     ┆ null      ┆ … ┆ CNMLH -   ┆ Provincia ┆ null      ┆ 2017     │\n",
       "│           ┆           ┆           ┆           ┆   ┆ Ente      ┆ l         ┆           ┆          │\n",
       "│           ┆           ┆           ┆           ┆   ┆ Cultural  ┆           ┆           ┆          │\n",
       "│           ┆           ┆           ┆           ┆   ┆ de        ┆           ┆           ┆          │\n",
       "│           ┆           ┆           ┆           ┆   ┆ Tucumán   ┆           ┆           ┆          │\n",
       "└───────────┴───────────┴───────────┴───────────┴───┴───────────┴───────────┴───────────┴──────────┘"
      ]
     },
     "execution_count": 14,
     "metadata": {},
     "output_type": "execute_result"
    }
   ],
   "source": [
    "df_museo"
   ]
  },
  {
   "cell_type": "markdown",
   "metadata": {},
   "source": [
    "### cines"
   ]
  },
  {
   "cell_type": "code",
   "execution_count": 15,
   "metadata": {},
   "outputs": [],
   "source": [
    "df_cines = get_response_and_create_csv(list_dicts_url[1])"
   ]
  },
  {
   "cell_type": "code",
   "execution_count": 16,
   "metadata": {},
   "outputs": [
    {
     "data": {
      "text/html": [
       "<div><style>\n",
       ".dataframe > thead > tr > th,\n",
       ".dataframe > tbody > tr > td {\n",
       "  text-align: right;\n",
       "  white-space: pre-wrap;\n",
       "}\n",
       "</style>\n",
       "<small>shape: (5, 22)</small><table border=\"1\" class=\"dataframe\"><thead><tr><th>cod_localidad</th><th>id_provincia</th><th>id_departamento</th><th>categoria</th><th>provincia</th><th>departamento</th><th>localidad</th><th>nombre</th><th>direccion</th><th>piso</th><th>cp</th><th>web</th><th>latitud</th><th>longitud</th><th>tipo_latitud_longitud</th><th>fuente</th><th>sector</th><th>pantallas</th><th>butacas</th><th>tipo_de_gestion</th><th>espacio_incaa</th><th>año_actualizacion\r</th></tr><tr><td>i64</td><td>i64</td><td>i64</td><td>str</td><td>str</td><td>str</td><td>str</td><td>str</td><td>str</td><td>str</td><td>i64</td><td>str</td><td>f64</td><td>f64</td><td>str</td><td>str</td><td>str</td><td>i64</td><td>i64</td><td>str</td><td>str</td><td>str</td></tr></thead><tbody><tr><td>6427010</td><td>6</td><td>6427</td><td>&quot;Salas de cine&quot;</td><td>&quot;Buenos Aires&quot;</td><td>&quot;La Matanza&quot;</td><td>&quot;Gonzalez Catán…</td><td>&quot;CPM Catan&quot;</td><td>&quot;Ruta 3 Km 29 B…</td><td>null</td><td>1759</td><td>&quot;https://cpmcin…</td><td>-34.761032</td><td>-58.615582</td><td>&quot;Precisa&quot;</td><td>&quot;INCAA / SInCA&quot;</td><td>&quot;Cine&quot;</td><td>6</td><td>1114</td><td>&quot;Privada&quot;</td><td>&quot;No&quot;</td><td>&quot;2022\r&quot;</td></tr><tr><td>6770050</td><td>6</td><td>6770</td><td>&quot;Salas de cine&quot;</td><td>&quot;Buenos Aires&quot;</td><td>&quot;San Pedro&quot;</td><td>&quot;San Pedro&quot;</td><td>&quot;La Palma&quot;</td><td>&quot;Belgrano 961&quot;</td><td>null</td><td>2930</td><td>&quot;https://www.fa…</td><td>-33.678826</td><td>-59.668011</td><td>&quot;Precisa&quot;</td><td>&quot;INCAA / SInCA&quot;</td><td>&quot;Cine&quot;</td><td>2</td><td>471</td><td>&quot;Privada&quot;</td><td>&quot;No&quot;</td><td>&quot;2022\r&quot;</td></tr><tr><td>78021040</td><td>78</td><td>78021</td><td>&quot;Salas de cine&quot;</td><td>&quot;Santa Cruz&quot;</td><td>&quot;Guer Aike&quot;</td><td>&quot;Río Gallegos&quot;</td><td>&quot;Cine Rio Galle…</td><td>&quot;Av. Nestor Kir…</td><td>null</td><td>9400</td><td>&quot;http://www.cin…</td><td>-51.619917</td><td>-69.218735</td><td>&quot;Precisa&quot;</td><td>&quot;INCAA / SInCA&quot;</td><td>&quot;Cine&quot;</td><td>3</td><td>290</td><td>&quot;Privada&quot;</td><td>&quot;No&quot;</td><td>&quot;2022\r&quot;</td></tr><tr><td>6441030</td><td>6</td><td>6441</td><td>&quot;Salas de cine&quot;</td><td>&quot;Buenos Aires&quot;</td><td>&quot;La Plata&quot;</td><td>&quot;La Plata&quot;</td><td>&quot;Cine Municipal…</td><td>&quot;19 Y 51&quot;</td><td>&quot;Piso 2&quot;</td><td>1900</td><td>&quot;http://www.cul…</td><td>-34.926546</td><td>-57.961577</td><td>&quot;Precisa&quot;</td><td>&quot;INCAA / SInCA&quot;</td><td>&quot;Cine&quot;</td><td>1</td><td>60</td><td>&quot;Pública&quot;</td><td>&quot;Si&quot;</td><td>&quot;2022\r&quot;</td></tr><tr><td>6441030</td><td>6</td><td>6441</td><td>&quot;Salas de cine&quot;</td><td>&quot;Buenos Aires&quot;</td><td>&quot;La Plata&quot;</td><td>&quot;La Plata&quot;</td><td>&quot;Cine Municipal…</td><td>&quot;Calle 50 entre…</td><td>null</td><td>1900</td><td>&quot;http://www.cul…</td><td>-34.91424</td><td>-57.949226</td><td>&quot;Precisa&quot;</td><td>&quot;INCAA / SInCA&quot;</td><td>&quot;Cine&quot;</td><td>1</td><td>174</td><td>&quot;Pública&quot;</td><td>&quot;Si&quot;</td><td>&quot;2022\r&quot;</td></tr></tbody></table></div>"
      ],
      "text/plain": [
       "shape: (5, 22)\n",
       "┌────────────┬───────────┬───────────┬───────────┬───┬─────────┬───────────┬───────────┬───────────┐\n",
       "│ cod_locali ┆ id_provin ┆ id_depart ┆ categoria ┆ … ┆ butacas ┆ tipo_de_g ┆ espacio_i ┆ año_actua │\n",
       "│ dad        ┆ cia       ┆ amento    ┆ ---       ┆   ┆ ---     ┆ estion    ┆ ncaa      ┆ lizacion\n",
       "  │\n",
       "│ ---        ┆ ---       ┆ ---       ┆ str       ┆   ┆ i64     ┆ ---       ┆ ---       ┆ ---       │\n",
       "│ i64        ┆ i64       ┆ i64       ┆           ┆   ┆         ┆ str       ┆ str       ┆ str       │\n",
       "╞════════════╪═══════════╪═══════════╪═══════════╪═══╪═════════╪═══════════╪═══════════╪═══════════╡\n",
       "│ 6427010    ┆ 6         ┆ 6427      ┆ Salas de  ┆ … ┆ 1114    ┆ Privada   ┆ No        ┆ 2022\n",
       "      │\n",
       "│            ┆           ┆           ┆ cine      ┆   ┆         ┆           ┆           ┆           │\n",
       "│ 6770050    ┆ 6         ┆ 6770      ┆ Salas de  ┆ … ┆ 471     ┆ Privada   ┆ No        ┆ 2022\n",
       "      │\n",
       "│            ┆           ┆           ┆ cine      ┆   ┆         ┆           ┆           ┆           │\n",
       "│ 78021040   ┆ 78        ┆ 78021     ┆ Salas de  ┆ … ┆ 290     ┆ Privada   ┆ No        ┆ 2022\n",
       "      │\n",
       "│            ┆           ┆           ┆ cine      ┆   ┆         ┆           ┆           ┆           │\n",
       "│ 6441030    ┆ 6         ┆ 6441      ┆ Salas de  ┆ … ┆ 60      ┆ Pública   ┆ Si        ┆ 2022\n",
       "      │\n",
       "│            ┆           ┆           ┆ cine      ┆   ┆         ┆           ┆           ┆           │\n",
       "│ 6441030    ┆ 6         ┆ 6441      ┆ Salas de  ┆ … ┆ 174     ┆ Pública   ┆ Si        ┆ 2022\n",
       "      │\n",
       "│            ┆           ┆           ┆ cine      ┆   ┆         ┆           ┆           ┆           │\n",
       "└────────────┴───────────┴───────────┴───────────┴───┴─────────┴───────────┴───────────┴───────────┘"
      ]
     },
     "execution_count": 16,
     "metadata": {},
     "output_type": "execute_result"
    }
   ],
   "source": [
    "df_cines.sample(5)"
   ]
  },
  {
   "cell_type": "code",
   "execution_count": 17,
   "metadata": {},
   "outputs": [
    {
     "data": {
      "text/plain": [
       "['cod_localidad',\n",
       " 'id_provincia',\n",
       " 'id_departamento',\n",
       " 'categoria',\n",
       " 'provincia',\n",
       " 'departamento',\n",
       " 'localidad',\n",
       " 'nombre',\n",
       " 'direccion',\n",
       " 'piso',\n",
       " 'cp',\n",
       " 'web',\n",
       " 'latitud',\n",
       " 'longitud',\n",
       " 'tipo_latitud_longitud',\n",
       " 'fuente',\n",
       " 'sector',\n",
       " 'pantallas',\n",
       " 'butacas',\n",
       " 'tipo_de_gestion',\n",
       " 'espacio_incaa',\n",
       " 'año_actualizacion\\r']"
      ]
     },
     "execution_count": 17,
     "metadata": {},
     "output_type": "execute_result"
    }
   ],
   "source": [
    "df_cines.columns"
   ]
  },
  {
   "cell_type": "code",
   "execution_count": 18,
   "metadata": {},
   "outputs": [
    {
     "data": {
      "text/plain": [
       "['categoría', 'domicilio', 'código postal']"
      ]
     },
     "execution_count": 18,
     "metadata": {},
     "output_type": "execute_result"
    }
   ],
   "source": [
    "new_columns = [i for i in norm_cols if i not in df_cines.columns]\n",
    "new_columns.remove(\"número de teléfono\")\n",
    "new_columns.remove(\"mail\")\n",
    "new_columns"
   ]
  },
  {
   "cell_type": "code",
   "execution_count": 19,
   "metadata": {},
   "outputs": [],
   "source": [
    "\n",
    "old_columns = ['categoria',\n",
    " 'direccion',\n",
    " 'cp',\n",
    " 'web',]"
   ]
  },
  {
   "cell_type": "code",
   "execution_count": 20,
   "metadata": {},
   "outputs": [
    {
     "data": {
      "text/html": [
       "<div><style>\n",
       ".dataframe > thead > tr > th,\n",
       ".dataframe > tbody > tr > td {\n",
       "  text-align: right;\n",
       "  white-space: pre-wrap;\n",
       "}\n",
       "</style>\n",
       "<small>shape: (316, 22)</small><table border=\"1\" class=\"dataframe\"><thead><tr><th>cod_localidad</th><th>id_provincia</th><th>id_departamento</th><th>categoría</th><th>provincia</th><th>departamento</th><th>localidad</th><th>nombre</th><th>domicilio</th><th>piso</th><th>código postal</th><th>web</th><th>latitud</th><th>longitud</th><th>tipo_latitud_longitud</th><th>fuente</th><th>sector</th><th>pantallas</th><th>butacas</th><th>tipo_de_gestion</th><th>espacio_incaa</th><th>año_actualizacion\r</th></tr><tr><td>i64</td><td>i64</td><td>i64</td><td>str</td><td>str</td><td>str</td><td>str</td><td>str</td><td>str</td><td>str</td><td>str</td><td>str</td><td>f64</td><td>f64</td><td>str</td><td>str</td><td>str</td><td>i64</td><td>i64</td><td>str</td><td>str</td><td>str</td></tr></thead><tbody><tr><td>6854100</td><td>6</td><td>6854</td><td>&quot;Salas de cine&quot;</td><td>&quot;Buenos Aires&quot;</td><td>&quot;25 de mayo&quot;</td><td>&quot;25 de mayo&quot;</td><td>&quot;Cine Teatro Es…</td><td>&quot;Calle 9 entre …</td><td>null</td><td>&quot;6660&quot;</td><td>&quot;https://www.in…</td><td>-35.430488</td><td>-60.170686</td><td>&quot;Precisa&quot;</td><td>&quot;INCAA / SInCA&quot;</td><td>&quot;Cine&quot;</td><td>1</td><td>500</td><td>&quot;Pública&quot;</td><td>&quot;No&quot;</td><td>&quot;2022\r&quot;</td></tr><tr><td>6826040</td><td>6</td><td>6826</td><td>&quot;Salas de cine&quot;</td><td>&quot;Buenos Aires&quot;</td><td>&quot;Trenque Lauque…</td><td>&quot;30 de agosto&quot;</td><td>&quot;Cine Santa Ros…</td><td>&quot;Santa Rosa De …</td><td>null</td><td>&quot;6405&quot;</td><td>&quot;https://www.tr…</td><td>-36.278508</td><td>-62.544355</td><td>&quot;Precisa&quot;</td><td>&quot;INCAA / SInCA&quot;</td><td>&quot;Cine&quot;</td><td>1</td><td>410</td><td>&quot;Pública&quot;</td><td>&quot;No&quot;</td><td>&quot;2022\r&quot;</td></tr><tr><td>6588100</td><td>6</td><td>6588</td><td>&quot;Salas de cine&quot;</td><td>&quot;Buenos Aires&quot;</td><td>&quot;9 de julio&quot;</td><td>&quot;9 de julio&quot;</td><td>&quot;Tu Cine 9 de J…</td><td>&quot;Robbio 840&quot;</td><td>null</td><td>&quot;6500&quot;</td><td>&quot;http://9dejuli…</td><td>-35.446265</td><td>-60.885789</td><td>&quot;Precisa&quot;</td><td>&quot;INCAA / SInCA&quot;</td><td>&quot;Cine&quot;</td><td>1</td><td>165</td><td>&quot;Privada&quot;</td><td>&quot;No&quot;</td><td>&quot;2022\r&quot;</td></tr><tr><td>6028010</td><td>6</td><td>6028</td><td>&quot;Salas de cine&quot;</td><td>&quot;Buenos Aires&quot;</td><td>&quot;Almirante Brow…</td><td>&quot;Adrogué&quot;</td><td>&quot;Cinema Adrogue…</td><td>&quot;Hipolito Yrigo…</td><td>null</td><td>&quot;1846&quot;</td><td>&quot;https://www.ci…</td><td>-34.80811</td><td>-58.4024</td><td>&quot;Precisa&quot;</td><td>&quot;INCAA / SInCA&quot;</td><td>&quot;Cine&quot;</td><td>10</td><td>2505</td><td>&quot;Privada&quot;</td><td>&quot;No&quot;</td><td>&quot;2022\r&quot;</td></tr><tr><td>6028010</td><td>6</td><td>6028</td><td>&quot;Salas de cine&quot;</td><td>&quot;Buenos Aires&quot;</td><td>&quot;Almirante Brow…</td><td>&quot;Adrogué&quot;</td><td>&quot;CPM Paseo Adro…</td><td>&quot;Segui 699&quot;</td><td>null</td><td>&quot;1846&quot;</td><td>&quot;https://cpmcin…</td><td>-34.800097</td><td>-58.396753</td><td>&quot;Precisa&quot;</td><td>&quot;INCAA / SInCA&quot;</td><td>&quot;Cine&quot;</td><td>4</td><td>710</td><td>&quot;Privada&quot;</td><td>&quot;No&quot;</td><td>&quot;2022\r&quot;</td></tr><tr><td>6035010</td><td>6</td><td>6035</td><td>&quot;Salas de cine&quot;</td><td>&quot;Buenos Aires&quot;</td><td>&quot;Avellaneda&quot;</td><td>&quot;Avellaneda&quot;</td><td>&quot;Cinemark Alto …</td><td>&quot;Guemes 897&quot;</td><td>null</td><td>&quot;1870&quot;</td><td>&quot;https://www.ci…</td><td>-34.677993</td><td>-58.36723</td><td>&quot;Precisa&quot;</td><td>&quot;INCAA / SInCA&quot;</td><td>&quot;Cine&quot;</td><td>6</td><td>1275</td><td>&quot;Privada&quot;</td><td>&quot;No&quot;</td><td>&quot;2022\r&quot;</td></tr><tr><td>6035010</td><td>6</td><td>6035</td><td>&quot;Salas de cine&quot;</td><td>&quot;Buenos Aires&quot;</td><td>&quot;Avellaneda&quot;</td><td>&quot;Avellaneda&quot;</td><td>&quot;Cinepolis Avel…</td><td>&quot;Autopista Bs. …</td><td>null</td><td>&quot;1870&quot;</td><td>&quot;https://www.ci…</td><td>-34.680206</td><td>-58.332777</td><td>&quot;Precisa&quot;</td><td>&quot;INCAA / SInCA&quot;</td><td>&quot;Cine&quot;</td><td>16</td><td>3485</td><td>&quot;Privada&quot;</td><td>&quot;No&quot;</td><td>&quot;2022\r&quot;</td></tr><tr><td>6049020</td><td>6</td><td>6049</td><td>&quot;Salas de cine&quot;</td><td>&quot;Buenos Aires&quot;</td><td>&quot;Azul&quot;</td><td>&quot;Azul&quot;</td><td>&quot;Flix Cinema&quot;</td><td>&quot;Bolivar 416&quot;</td><td>null</td><td>&quot;7300&quot;</td><td>&quot;http://azul.fl…</td><td>-36.77836</td><td>-59.864783</td><td>&quot;Precisa&quot;</td><td>&quot;INCAA / SInCA&quot;</td><td>&quot;Cine&quot;</td><td>1</td><td>160</td><td>&quot;Privada&quot;</td><td>&quot;No&quot;</td><td>&quot;2022\r&quot;</td></tr><tr><td>6056010</td><td>6</td><td>6056</td><td>&quot;Salas de cine&quot;</td><td>&quot;Buenos Aires&quot;</td><td>&quot;Bahía Blanca&quot;</td><td>&quot;Bahía Blanca&quot;</td><td>&quot;Cine Vision&quot;</td><td>&quot;Belgrano 153&quot;</td><td>null</td><td>&quot;8000&quot;</td><td>&quot;https://www.ci…</td><td>-38.718149</td><td>-62.262122</td><td>&quot;Precisa&quot;</td><td>&quot;INCAA / SInCA&quot;</td><td>&quot;Cine&quot;</td><td>3</td><td>907</td><td>&quot;Privada&quot;</td><td>&quot;No&quot;</td><td>&quot;2022\r&quot;</td></tr><tr><td>6056010</td><td>6</td><td>6056</td><td>&quot;Salas de cine&quot;</td><td>&quot;Buenos Aires&quot;</td><td>&quot;Bahía Blanca&quot;</td><td>&quot;Bahía Blanca&quot;</td><td>&quot;Cine Visual&quot;</td><td>&quot;Chiclana 452&quot;</td><td>null</td><td>&quot;8000&quot;</td><td>&quot;http://www.cin…</td><td>-38.722103</td><td>-62.261507</td><td>&quot;Precisa&quot;</td><td>&quot;INCAA / SInCA&quot;</td><td>&quot;Cine&quot;</td><td>2</td><td>501</td><td>&quot;Privada&quot;</td><td>&quot;No&quot;</td><td>&quot;2022\r&quot;</td></tr><tr><td>6056010</td><td>6</td><td>6056</td><td>&quot;Salas de cine&quot;</td><td>&quot;Buenos Aires&quot;</td><td>&quot;Bahía Blanca&quot;</td><td>&quot;Bahía Blanca&quot;</td><td>&quot;Cinemacenter B…</td><td>&quot;Av. Sarmiento …</td><td>null</td><td>&quot;8000&quot;</td><td>&quot;http://www.cin…</td><td>-38.698777</td><td>-62.244043</td><td>&quot;Precisa&quot;</td><td>&quot;INCAA / SInCA&quot;</td><td>&quot;Cine&quot;</td><td>7</td><td>1501</td><td>&quot;Privada&quot;</td><td>&quot;No&quot;</td><td>&quot;2022\r&quot;</td></tr><tr><td>6063010</td><td>6</td><td>6063</td><td>&quot;Salas de cine&quot;</td><td>&quot;Buenos Aires&quot;</td><td>&quot;Balcarce&quot;</td><td>&quot;Balcarce&quot;</td><td>&quot;Cine Paris 2D …</td><td>&quot;Calle 18 684&quot;</td><td>null</td><td>&quot;7620&quot;</td><td>&quot;https://www.fa…</td><td>-37.848567</td><td>-58.256225</td><td>&quot;Precisa&quot;</td><td>&quot;INCAA / SInCA&quot;</td><td>&quot;Cine&quot;</td><td>1</td><td>272</td><td>&quot;Privada&quot;</td><td>&quot;No&quot;</td><td>&quot;2022\r&quot;</td></tr><tr><td>&hellip;</td><td>&hellip;</td><td>&hellip;</td><td>&hellip;</td><td>&hellip;</td><td>&hellip;</td><td>&hellip;</td><td>&hellip;</td><td>&hellip;</td><td>&hellip;</td><td>&hellip;</td><td>&hellip;</td><td>&hellip;</td><td>&hellip;</td><td>&hellip;</td><td>&hellip;</td><td>&hellip;</td><td>&hellip;</td><td>&hellip;</td><td>&hellip;</td><td>&hellip;</td><td>&hellip;</td></tr><tr><td>94014020</td><td>94</td><td>94014</td><td>&quot;Salas de cine&quot;</td><td>&quot;Tierra del Fue…</td><td>&quot;Ushuaia&quot;</td><td>&quot;Ushuaia&quot;</td><td>&quot;Sunstar Ushuai…</td><td>&quot;Av. Perito Mor…</td><td>null</td><td>&quot;9410&quot;</td><td>&quot;http://www.cin…</td><td>-54.799943</td><td>-68.280115</td><td>&quot;Precisa&quot;</td><td>&quot;INCAA / SInCA&quot;</td><td>&quot;Cine&quot;</td><td>3</td><td>561</td><td>&quot;Privada&quot;</td><td>&quot;No&quot;</td><td>&quot;2022\r&quot;</td></tr><tr><td>90084010</td><td>90</td><td>90084</td><td>&quot;Salas de cine&quot;</td><td>&quot;Tucumán&quot;</td><td>&quot;Capital&quot;</td><td>&quot;San Miguel de …</td><td>&quot;Atlas Vía 24&quot;</td><td>&quot;24 de Septiemb…</td><td>null</td><td>&quot;4000&quot;</td><td>&quot;https://www.ci…</td><td>-26.830169</td><td>-65.208742</td><td>&quot;Precisa&quot;</td><td>&quot;INCAA / SInCA&quot;</td><td>&quot;Cine&quot;</td><td>2</td><td>264</td><td>&quot;Privada&quot;</td><td>&quot;No&quot;</td><td>&quot;2022\r&quot;</td></tr><tr><td>90084010</td><td>90</td><td>90084</td><td>&quot;Salas de cine&quot;</td><td>&quot;Tucumán&quot;</td><td>&quot;Capital&quot;</td><td>&quot;San Miguel de …</td><td>&quot;Cine Popular S…</td><td>&quot;Lavalle 688&quot;</td><td>null</td><td>&quot;4000&quot;</td><td>null</td><td>-26.838793</td><td>-65.2095</td><td>&quot;Precisa&quot;</td><td>&quot;INCAA / SInCA&quot;</td><td>&quot;Cine&quot;</td><td>1</td><td>50</td><td>&quot;Privada&quot;</td><td>&quot;No&quot;</td><td>&quot;2022\r&quot;</td></tr><tr><td>90084010</td><td>90</td><td>90084</td><td>&quot;Salas de cine&quot;</td><td>&quot;Tucumán&quot;</td><td>&quot;Capital&quot;</td><td>&quot;San Miguel de …</td><td>&quot;Sala Hynes O´C…</td><td>&quot;San Martín 251…</td><td>null</td><td>&quot;4000&quot;</td><td>null</td><td>-26.830237</td><td>-65.200585</td><td>&quot;Precisa&quot;</td><td>&quot;INCAA / SInCA&quot;</td><td>&quot;Cine&quot;</td><td>1</td><td>80</td><td>&quot;Pública&quot;</td><td>&quot;Si&quot;</td><td>&quot;2022\r&quot;</td></tr><tr><td>90119030</td><td>90</td><td>90119</td><td>&quot;Salas de cine&quot;</td><td>&quot;Tucumán&quot;</td><td>&quot;Yerba Buena&quot;</td><td>&quot;Yerba Buena&quot;</td><td>&quot;Cine Popular d…</td><td>&quot;Av. Aconquija …</td><td>null</td><td>&quot;4107&quot;</td><td>null</td><td>-26.812302</td><td>-65.300313</td><td>&quot;Precisa&quot;</td><td>&quot;INCAA / SInCA&quot;</td><td>&quot;Cine&quot;</td><td>1</td><td>50</td><td>&quot;Privada&quot;</td><td>&quot;No&quot;</td><td>&quot;2022\r&quot;</td></tr><tr><td>90084010</td><td>90</td><td>90084</td><td>&quot;Salas de cine&quot;</td><td>&quot;Tucumán&quot;</td><td>&quot;Capital&quot;</td><td>&quot;San Miguel de …</td><td>&quot;Atlas Shopping…</td><td>&quot;Av. Brigido Te…</td><td>null</td><td>&quot;4000&quot;</td><td>&quot;cineatlasweb.c…</td><td>-26.834701</td><td>-65.194059</td><td>&quot;Precisa&quot;</td><td>&quot;INCAA / SInCA&quot;</td><td>&quot;Cine&quot;</td><td>2</td><td>219</td><td>&quot;Privada&quot;</td><td>&quot;No&quot;</td><td>&quot;2022\r&quot;</td></tr><tr><td>90084010</td><td>90</td><td>90084</td><td>&quot;Salas de cine&quot;</td><td>&quot;Tucumán&quot;</td><td>&quot;Capital&quot;</td><td>&quot;San Miguel de …</td><td>&quot;Atlas Tucuman&quot;</td><td>&quot;Monteagudo 250…</td><td>null</td><td>&quot;4000&quot;</td><td>&quot;cineatlasweb.c…</td><td>-26.828516</td><td>-65.199312</td><td>&quot;Precisa&quot;</td><td>&quot;INCAA / SInCA&quot;</td><td>&quot;Cine&quot;</td><td>3</td><td>797</td><td>&quot;Privada&quot;</td><td>&quot;No&quot;</td><td>&quot;2022\r&quot;</td></tr><tr><td>90084010</td><td>90</td><td>90084</td><td>&quot;Salas de cine&quot;</td><td>&quot;Tucumán&quot;</td><td>&quot;Capital&quot;</td><td>&quot;San Miguel de …</td><td>&quot;Cinemacenter T…</td><td>&quot;Av. Nestor Kir…</td><td>&quot;Piso 1&quot;</td><td>&quot;4000&quot;</td><td>&quot;http://www.cin…</td><td>-26.83447</td><td>-65.252298</td><td>&quot;Precisa&quot;</td><td>&quot;INCAA / SInCA&quot;</td><td>&quot;Cine&quot;</td><td>5</td><td>1051</td><td>&quot;Privada&quot;</td><td>&quot;No&quot;</td><td>&quot;2022\r&quot;</td></tr><tr><td>90084010</td><td>90</td><td>90084</td><td>&quot;Salas de cine&quot;</td><td>&quot;Tucumán&quot;</td><td>&quot;Capital&quot;</td><td>&quot;San Miguel de …</td><td>&quot;Espacio Incaa …</td><td>&quot;San Martin 251…</td><td>null</td><td>&quot;4000&quot;</td><td>&quot;https://entecu…</td><td>-26.83037</td><td>-65.200703</td><td>&quot;Precisa&quot;</td><td>&quot;INCAA / SInCA&quot;</td><td>&quot;Cine&quot;</td><td>1</td><td>183</td><td>&quot;Pública&quot;</td><td>&quot;Si&quot;</td><td>&quot;2022\r&quot;</td></tr><tr><td>90084010</td><td>90</td><td>90084</td><td>&quot;Salas de cine&quot;</td><td>&quot;Tucumán&quot;</td><td>&quot;Capital&quot;</td><td>&quot;San Miguel de …</td><td>&quot;Microcine Orio…</td><td>&quot;Av. Mitre 817&quot;</td><td>null</td><td>&quot;4000&quot;</td><td>null</td><td>-26.817212</td><td>-65.215481</td><td>&quot;Precisa&quot;</td><td>&quot;INCAA / SInCA&quot;</td><td>&quot;Cine&quot;</td><td>1</td><td>36</td><td>&quot;Pública&quot;</td><td>&quot;No&quot;</td><td>&quot;2022\r&quot;</td></tr><tr><td>90119030</td><td>90</td><td>90119</td><td>&quot;Salas de cine&quot;</td><td>&quot;Tucumán&quot;</td><td>&quot;Yerba Buena&quot;</td><td>&quot;Yerba Buena&quot;</td><td>&quot;Solar del Cerr…</td><td>&quot;Av. Aconquija …</td><td>null</td><td>&quot;4107&quot;</td><td>&quot;http://solarde…</td><td>-26.814179</td><td>-65.288937</td><td>&quot;Precisa&quot;</td><td>&quot;INCAA / SInCA&quot;</td><td>&quot;Cine&quot;</td><td>5</td><td>750</td><td>&quot;Privada&quot;</td><td>&quot;No&quot;</td><td>&quot;2022\r&quot;</td></tr><tr><td>90119030</td><td>90</td><td>90119</td><td>&quot;Salas de cine&quot;</td><td>&quot;Tucumán&quot;</td><td>&quot;Yerba Buena&quot;</td><td>&quot;Yerba Buena&quot;</td><td>&quot;Sunstar Tucuma…</td><td>&quot;Av. Fermin Car…</td><td>null</td><td>&quot;4107&quot;</td><td>&quot;http://www.cin…</td><td>-26.820976</td><td>-65.265894</td><td>&quot;Precisa&quot;</td><td>&quot;INCAA / SInCA&quot;</td><td>&quot;Cine&quot;</td><td>6</td><td>1295</td><td>&quot;Privada&quot;</td><td>&quot;No&quot;</td><td>&quot;2022&quot;</td></tr></tbody></table></div>"
      ],
      "text/plain": [
       "shape: (316, 22)\n",
       "┌────────────┬───────────┬───────────┬───────────┬───┬─────────┬───────────┬───────────┬───────────┐\n",
       "│ cod_locali ┆ id_provin ┆ id_depart ┆ categoría ┆ … ┆ butacas ┆ tipo_de_g ┆ espacio_i ┆ año_actua │\n",
       "│ dad        ┆ cia       ┆ amento    ┆ ---       ┆   ┆ ---     ┆ estion    ┆ ncaa      ┆ lizacion\n",
       "  │\n",
       "│ ---        ┆ ---       ┆ ---       ┆ str       ┆   ┆ i64     ┆ ---       ┆ ---       ┆ ---       │\n",
       "│ i64        ┆ i64       ┆ i64       ┆           ┆   ┆         ┆ str       ┆ str       ┆ str       │\n",
       "╞════════════╪═══════════╪═══════════╪═══════════╪═══╪═════════╪═══════════╪═══════════╪═══════════╡\n",
       "│ 6854100    ┆ 6         ┆ 6854      ┆ Salas de  ┆ … ┆ 500     ┆ Pública   ┆ No        ┆ 2022\n",
       "      │\n",
       "│            ┆           ┆           ┆ cine      ┆   ┆         ┆           ┆           ┆           │\n",
       "│ 6826040    ┆ 6         ┆ 6826      ┆ Salas de  ┆ … ┆ 410     ┆ Pública   ┆ No        ┆ 2022\n",
       "      │\n",
       "│            ┆           ┆           ┆ cine      ┆   ┆         ┆           ┆           ┆           │\n",
       "│ 6588100    ┆ 6         ┆ 6588      ┆ Salas de  ┆ … ┆ 165     ┆ Privada   ┆ No        ┆ 2022\n",
       "      │\n",
       "│            ┆           ┆           ┆ cine      ┆   ┆         ┆           ┆           ┆           │\n",
       "│ 6028010    ┆ 6         ┆ 6028      ┆ Salas de  ┆ … ┆ 2505    ┆ Privada   ┆ No        ┆ 2022\n",
       "      │\n",
       "│            ┆           ┆           ┆ cine      ┆   ┆         ┆           ┆           ┆           │\n",
       "│ …          ┆ …         ┆ …         ┆ …         ┆ … ┆ …       ┆ …         ┆ …         ┆ …         │\n",
       "│ 90084010   ┆ 90        ┆ 90084     ┆ Salas de  ┆ … ┆ 183     ┆ Pública   ┆ Si        ┆ 2022\n",
       "      │\n",
       "│            ┆           ┆           ┆ cine      ┆   ┆         ┆           ┆           ┆           │\n",
       "│ 90084010   ┆ 90        ┆ 90084     ┆ Salas de  ┆ … ┆ 36      ┆ Pública   ┆ No        ┆ 2022\n",
       "      │\n",
       "│            ┆           ┆           ┆ cine      ┆   ┆         ┆           ┆           ┆           │\n",
       "│ 90119030   ┆ 90        ┆ 90119     ┆ Salas de  ┆ … ┆ 750     ┆ Privada   ┆ No        ┆ 2022\n",
       "      │\n",
       "│            ┆           ┆           ┆ cine      ┆   ┆         ┆           ┆           ┆           │\n",
       "│ 90119030   ┆ 90        ┆ 90119     ┆ Salas de  ┆ … ┆ 1295    ┆ Privada   ┆ No        ┆ 2022      │\n",
       "│            ┆           ┆           ┆ cine      ┆   ┆         ┆           ┆           ┆           │\n",
       "└────────────┴───────────┴───────────┴───────────┴───┴─────────┴───────────┴───────────┴───────────┘"
      ]
     },
     "execution_count": 20,
     "metadata": {},
     "output_type": "execute_result"
    }
   ],
   "source": [
    "df_cines=columns_rename(df_cines, old_columns, new_columns)\n",
    "df_cines = df_cines.with_columns(df_cines[\"código postal\"].cast(str))\n",
    "df_cines"
   ]
  },
  {
   "cell_type": "markdown",
   "metadata": {},
   "source": [
    "### Espacios"
   ]
  },
  {
   "cell_type": "code",
   "execution_count": 21,
   "metadata": {},
   "outputs": [],
   "source": [
    "df_espacios = get_response_and_create_csv(list_dicts_url[2])"
   ]
  },
  {
   "cell_type": "code",
   "execution_count": 22,
   "metadata": {},
   "outputs": [
    {
     "data": {
      "text/plain": [
       "['categoría', 'código postal', 'número de teléfono']"
      ]
     },
     "execution_count": 22,
     "metadata": {},
     "output_type": "execute_result"
    }
   ],
   "source": [
    "new_columns = [i for i in norm_cols if i not in df_espacios.columns]\n",
    "new_columns"
   ]
  },
  {
   "cell_type": "code",
   "execution_count": 23,
   "metadata": {},
   "outputs": [
    {
     "data": {
      "text/plain": [
       "['cod_localidad',\n",
       " 'id_provincia',\n",
       " 'id_departamento',\n",
       " 'observacion',\n",
       " 'categoria',\n",
       " 'subcategoria',\n",
       " 'provincia',\n",
       " 'departamento',\n",
       " 'localidad',\n",
       " 'nombre',\n",
       " 'domicilio',\n",
       " 'piso',\n",
       " 'cp',\n",
       " 'cod_tel',\n",
       " 'telefono',\n",
       " 'mail',\n",
       " 'web',\n",
       " 'informacion_adicional',\n",
       " 'latitud',\n",
       " 'longitud',\n",
       " 'tipo_latitud_longitud',\n",
       " 'fuente',\n",
       " 'fecha_fundacion',\n",
       " 'nro_conabip',\n",
       " 'anio_actualizacion\\r']"
      ]
     },
     "execution_count": 23,
     "metadata": {},
     "output_type": "execute_result"
    }
   ],
   "source": [
    "df_espacios.columns"
   ]
  },
  {
   "cell_type": "code",
   "execution_count": 24,
   "metadata": {},
   "outputs": [],
   "source": [
    "old_columns = ['categoria',\n",
    " 'cp',\n",
    " 'telefono',]\n",
    "df_espacios=columns_rename(df_espacios, old_columns, new_columns)"
   ]
  },
  {
   "cell_type": "code",
   "execution_count": 25,
   "metadata": {},
   "outputs": [
    {
     "data": {
      "text/html": [
       "<div><style>\n",
       ".dataframe > thead > tr > th,\n",
       ".dataframe > tbody > tr > td {\n",
       "  text-align: right;\n",
       "  white-space: pre-wrap;\n",
       "}\n",
       "</style>\n",
       "<small>shape: (1_902, 25)</small><table border=\"1\" class=\"dataframe\"><thead><tr><th>cod_localidad</th><th>id_provincia</th><th>id_departamento</th><th>observacion</th><th>categoría</th><th>subcategoria</th><th>provincia</th><th>departamento</th><th>localidad</th><th>nombre</th><th>domicilio</th><th>piso</th><th>código postal</th><th>cod_tel</th><th>número de teléfono</th><th>mail</th><th>web</th><th>informacion_adicional</th><th>latitud</th><th>longitud</th><th>tipo_latitud_longitud</th><th>fuente</th><th>fecha_fundacion</th><th>nro_conabip</th><th>anio_actualizacion\r</th></tr><tr><td>i64</td><td>i64</td><td>i64</td><td>str</td><td>str</td><td>str</td><td>str</td><td>str</td><td>str</td><td>str</td><td>str</td><td>str</td><td>str</td><td>i64</td><td>i64</td><td>str</td><td>str</td><td>str</td><td>f64</td><td>f64</td><td>str</td><td>str</td><td>str</td><td>i64</td><td>str</td></tr></thead><tbody><tr><td>6854100</td><td>6</td><td>6854</td><td>null</td><td>&quot;Biblioteca Pop…</td><td>null</td><td>&quot;Buenos Aires&quot;</td><td>&quot;25 De Mayo&quot;</td><td>&quot;25 de Mayo&quot;</td><td>&quot;Comité Cultura…</td><td>&quot;9 y 27 801&quot;</td><td>null</td><td>&quot;6660&quot;</td><td>2345</td><td>462234</td><td>null</td><td>null</td><td>null</td><td>-35.432917</td><td>-60.171417</td><td>&quot;Exacta&quot;</td><td>&quot;CONABIP&quot;</td><td>&quot;1922-10-02&quot;</td><td>938</td><td>&quot;2023\r&quot;</td></tr><tr><td>6588100</td><td>6</td><td>6588</td><td>null</td><td>&quot;Biblioteca Pop…</td><td>null</td><td>&quot;Buenos Aires&quot;</td><td>&quot;9 De Julio&quot;</td><td>&quot;9 de Julio&quot;</td><td>&quot;Bib.Pop. Anast…</td><td>&quot;Mitre 342&quot;</td><td>null</td><td>&quot;6500&quot;</td><td>null</td><td>null</td><td>null</td><td>null</td><td>null</td><td>-35.433333</td><td>-60.866667</td><td>&quot;Exacta&quot;</td><td>&quot;CONABIP&quot;</td><td>&quot;1980-01-01&quot;</td><td>200</td><td>&quot;2023\r&quot;</td></tr><tr><td>6588100</td><td>6</td><td>6588</td><td>null</td><td>&quot;Biblioteca Pop…</td><td>null</td><td>&quot;Buenos Aires&quot;</td><td>&quot;9 De Julio&quot;</td><td>&quot;9 de Julio&quot;</td><td>&quot;Bib.Pop. José …</td><td>&quot;Mendoza 991&quot;</td><td>null</td><td>&quot;6500&quot;</td><td>2317</td><td>426779</td><td>null</td><td>null</td><td>null</td><td>-35.445957</td><td>-60.883377</td><td>&quot;Exacta&quot;</td><td>&quot;CONABIP&quot;</td><td>&quot;1933-10-12&quot;</td><td>1850</td><td>&quot;2023\r&quot;</td></tr><tr><td>6007010</td><td>6</td><td>6007</td><td>null</td><td>&quot;Biblioteca Pop…</td><td>null</td><td>&quot;Buenos Aires&quot;</td><td>&quot;Adolfo Alsina&quot;</td><td>&quot;Carhue&quot;</td><td>&quot;Bib.Pop. Adolf…</td><td>&quot;San Martín 110…</td><td>null</td><td>&quot;B6430CSL&quot;</td><td>2936</td><td>430724</td><td>null</td><td>null</td><td>null</td><td>-37.180933</td><td>-62.76005</td><td>&quot;Exacta&quot;</td><td>&quot;CONABIP&quot;</td><td>&quot;1912-08-23&quot;</td><td>88</td><td>&quot;2023\r&quot;</td></tr><tr><td>6007080</td><td>6</td><td>6007</td><td>null</td><td>&quot;Biblioteca Pop…</td><td>null</td><td>&quot;Buenos Aires&quot;</td><td>&quot;Adolfo Alsina&quot;</td><td>&quot;Rivera&quot;</td><td>&quot;Bib.Pop. José …</td><td>&quot;Los Colonizado…</td><td>null</td><td>&quot;6441&quot;</td><td>2935</td><td>432073</td><td>&quot;ccibiblio@hotm…</td><td>null</td><td>null</td><td>-37.1626</td><td>-63.24705</td><td>&quot;Exacta&quot;</td><td>&quot;CONABIP&quot;</td><td>&quot;1925-01-01&quot;</td><td>1278</td><td>&quot;2023\r&quot;</td></tr><tr><td>6014010</td><td>6</td><td>6014</td><td>null</td><td>&quot;Biblioteca Pop…</td><td>null</td><td>&quot;Buenos Aires&quot;</td><td>&quot;Adolfo Gonzale…</td><td>&quot;Adolfo Gonzale…</td><td>&quot;Bib.Pub. Berna…</td><td>&quot;Sarmiento 175&quot;</td><td>null</td><td>&quot;7513&quot;</td><td>2983</td><td>484115</td><td>&quot;bipobrchaves@y…</td><td>null</td><td>null</td><td>-38.03465</td><td>-60.099433</td><td>&quot;Exacta&quot;</td><td>&quot;CONABIP&quot;</td><td>&quot;1925-05-10&quot;</td><td>1062</td><td>&quot;2023\r&quot;</td></tr><tr><td>6014020</td><td>6</td><td>6014</td><td>null</td><td>&quot;Biblioteca Pop…</td><td>null</td><td>&quot;Buenos Aires&quot;</td><td>&quot;Adolfo Gonzale…</td><td>&quot;De la Garma&quot;</td><td>&quot;Bib.Pop. Dr. V…</td><td>&quot;Castro Barros …</td><td>null</td><td>&quot;B7515AGH&quot;</td><td>2983</td><td>494240</td><td>&quot;barrerabp@hotm…</td><td>null</td><td>null</td><td>-37.962467</td><td>-60.414517</td><td>&quot;Exacta&quot;</td><td>&quot;CONABIP&quot;</td><td>&quot;1942-11-30&quot;</td><td>2170</td><td>&quot;2023\r&quot;</td></tr><tr><td>6021010</td><td>6</td><td>6021</td><td>null</td><td>&quot;Biblioteca Pop…</td><td>null</td><td>&quot;Buenos Aires&quot;</td><td>&quot;Alberti&quot;</td><td>&quot;Alberti&quot;</td><td>&quot;Bib.Pop. André…</td><td>&quot;Arias 154&quot;</td><td>null</td><td>&quot;6634&quot;</td><td>2346</td><td>471339</td><td>&quot;eleana_1983@ho…</td><td>null</td><td>null</td><td>-35.03105</td><td>-60.278333</td><td>&quot;Exacta&quot;</td><td>&quot;CONABIP&quot;</td><td>&quot;1925-01-01&quot;</td><td>1554</td><td>&quot;2023\r&quot;</td></tr><tr><td>6028010</td><td>6</td><td>6028</td><td>null</td><td>&quot;Biblioteca Pop…</td><td>null</td><td>&quot;Buenos Aires&quot;</td><td>&quot;Almte Brown&quot;</td><td>&quot;Adrogué&quot;</td><td>&quot;Amigos de la B…</td><td>&quot;La Rosa 974 0&quot;</td><td>null</td><td>&quot;B1846CQN&quot;</td><td>11</td><td>42141245</td><td>null</td><td>null</td><td>null</td><td>-34.797233</td><td>-58.38155</td><td>&quot;Exacta&quot;</td><td>&quot;CONABIP&quot;</td><td>&quot;1918-08-01&quot;</td><td>90</td><td>&quot;2023\r&quot;</td></tr><tr><td>6028010</td><td>6</td><td>6028</td><td>null</td><td>&quot;Biblioteca Pop…</td><td>null</td><td>&quot;Buenos Aires&quot;</td><td>&quot;Almte Brown&quot;</td><td>&quot;Adrogué&quot;</td><td>&quot;Bib. Pop. La M…</td><td>&quot;Gral.Paz 765&quot;</td><td>null</td><td>&quot;1846&quot;</td><td>11</td><td>42944738</td><td>null</td><td>null</td><td>null</td><td>-34.804586</td><td>-58.392516</td><td>&quot;Exacta&quot;</td><td>&quot;CONABIP&quot;</td><td>&quot;1999-08-28&quot;</td><td>4001</td><td>&quot;2023\r&quot;</td></tr><tr><td>6028010</td><td>6</td><td>6028</td><td>null</td><td>&quot;Biblioteca Pop…</td><td>null</td><td>&quot;Buenos Aires&quot;</td><td>&quot;Almte Brown&quot;</td><td>&quot;Claypole&quot;</td><td>&quot;Bib.Pop. Mahat…</td><td>&quot;Lobato 843&quot;</td><td>null</td><td>&quot;1849&quot;</td><td>11</td><td>42911465</td><td>&quot;bpmgandhi@tuto…</td><td>null</td><td>null</td><td>-34.799917</td><td>-58.3364</td><td>&quot;Exacta&quot;</td><td>&quot;CONABIP&quot;</td><td>&quot;1980-01-01&quot;</td><td>3792</td><td>&quot;2023\r&quot;</td></tr><tr><td>6028010</td><td>6</td><td>6028</td><td>null</td><td>&quot;Biblioteca Pop…</td><td>null</td><td>&quot;Buenos Aires&quot;</td><td>&quot;Almte Brown&quot;</td><td>&quot;Glew&quot;</td><td>&quot;Bib.Pop. Pablo…</td><td>&quot;A.del Valle y …</td><td>null</td><td>&quot;1856&quot;</td><td>2224</td><td>420095</td><td>&quot;bibliorojaspaz…</td><td>null</td><td>null</td><td>-34.891483</td><td>-58.38585</td><td>&quot;Exacta&quot;</td><td>&quot;CONABIP&quot;</td><td>&quot;1969-03-22&quot;</td><td>2870</td><td>&quot;2023\r&quot;</td></tr><tr><td>&hellip;</td><td>&hellip;</td><td>&hellip;</td><td>&hellip;</td><td>&hellip;</td><td>&hellip;</td><td>&hellip;</td><td>&hellip;</td><td>&hellip;</td><td>&hellip;</td><td>&hellip;</td><td>&hellip;</td><td>&hellip;</td><td>&hellip;</td><td>&hellip;</td><td>&hellip;</td><td>&hellip;</td><td>&hellip;</td><td>&hellip;</td><td>&hellip;</td><td>&hellip;</td><td>&hellip;</td><td>&hellip;</td><td>&hellip;</td><td>&hellip;</td></tr><tr><td>90070060</td><td>90</td><td>90070</td><td>null</td><td>&quot;Biblioteca Pop…</td><td>null</td><td>&quot;Tucumán&quot;</td><td>&quot;Monteros&quot;</td><td>&quot;Santa Lucía&quot;</td><td>&quot;Bib.Pop. Santa…</td><td>&quot;Marcos Avellan…</td><td>null</td><td>&quot;4135&quot;</td><td>381</td><td>3377795</td><td>null</td><td>null</td><td>null</td><td>-27.094133</td><td>-65.5348</td><td>&quot;Exacta&quot;</td><td>&quot;CONABIP&quot;</td><td>&quot;2012-03-21&quot;</td><td>4303</td><td>&quot;2023\r&quot;</td></tr><tr><td>90077010</td><td>90</td><td>90077</td><td>null</td><td>&quot;Biblioteca Pop…</td><td>null</td><td>&quot;Tucumán&quot;</td><td>&quot;Rio Chico&quot;</td><td>&quot;Aguilares&quot;</td><td>&quot;Bib.Pop. Ricar…</td><td>&quot;J. B. Alberdi …</td><td>null</td><td>&quot;T4152DUS&quot;</td><td>3865</td><td>482300</td><td>null</td><td>null</td><td>null</td><td>-27.434533</td><td>-65.616183</td><td>&quot;Exacta&quot;</td><td>&quot;CONABIP&quot;</td><td>&quot;1911-02-10&quot;</td><td>634</td><td>&quot;2023\r&quot;</td></tr><tr><td>90077020</td><td>90</td><td>90077</td><td>null</td><td>&quot;Biblioteca Pop…</td><td>null</td><td>&quot;Tucumán&quot;</td><td>&quot;Rio Chico&quot;</td><td>&quot;Los Sarmientos…</td><td>&quot;Bib.Pop. Alfon…</td><td>&quot;Sarmiento&quot;</td><td>null</td><td>&quot;4157&quot;</td><td>3865</td><td>494015</td><td>null</td><td>null</td><td>null</td><td>-27.41495</td><td>-65.691283</td><td>&quot;Exacta&quot;</td><td>&quot;CONABIP&quot;</td><td>&quot;1972-02-20&quot;</td><td>3077</td><td>&quot;2023\r&quot;</td></tr><tr><td>90021050</td><td>90</td><td>90021</td><td>null</td><td>&quot;Biblioteca Pop…</td><td>null</td><td>&quot;Tucumán&quot;</td><td>&quot;Sin Partido&quot;</td><td>&quot;Concepción&quot;</td><td>&quot;Bib.Pop. Nicol…</td><td>&quot;San Martín 165…</td><td>null</td><td>&quot;4146&quot;</td><td>3865</td><td>421611</td><td>null</td><td>null</td><td>null</td><td>-27.345067</td><td>-65.59515</td><td>&quot;Exacta&quot;</td><td>&quot;CONABIP&quot;</td><td>&quot;1980-01-01&quot;</td><td>635</td><td>&quot;2023\r&quot;</td></tr><tr><td>90112030</td><td>90</td><td>90112</td><td>null</td><td>&quot;Biblioteca Pop…</td><td>null</td><td>&quot;Tucumán&quot;</td><td>&quot;Sin Partido&quot;</td><td>&quot;Trancas&quot;</td><td>&quot;Bib.Pop. Maria…</td><td>&quot;25 de Mayo (2ª…</td><td>null</td><td>&quot;4124&quot;</td><td>3862</td><td>421160</td><td>null</td><td>null</td><td>null</td><td>-26.232083</td><td>-65.280183</td><td>&quot;Exacta&quot;</td><td>&quot;CONABIP&quot;</td><td>&quot;1912-11-20&quot;</td><td>651</td><td>&quot;2023\r&quot;</td></tr><tr><td>90098010</td><td>90</td><td>90098</td><td>null</td><td>&quot;Biblioteca Pop…</td><td>null</td><td>&quot;Tucumán&quot;</td><td>&quot;Tafi Del Valle…</td><td>&quot;Amaicha del Va…</td><td>&quot;Bib.Pop. Amado…</td><td>&quot;San Martín S/N…</td><td>null</td><td>&quot;4137&quot;</td><td>3892</td><td>421220</td><td>null</td><td>null</td><td>null</td><td>-26.946846</td><td>-65.285706</td><td>&quot;Exacta&quot;</td><td>&quot;CONABIP&quot;</td><td>&quot;1909-04-01&quot;</td><td>3291</td><td>&quot;2023\r&quot;</td></tr><tr><td>90098030</td><td>90</td><td>90098</td><td>null</td><td>&quot;Biblioteca Pop…</td><td>null</td><td>&quot;Tucumán&quot;</td><td>&quot;Tafi Del Valle…</td><td>&quot;El Mollar&quot;</td><td>&quot;Bib.Pop. Manue…</td><td>&quot;Sin dirección&quot;</td><td>null</td><td>&quot;4135&quot;</td><td>386</td><td>491010</td><td>null</td><td>null</td><td>null</td><td>-26.94025</td><td>-65.706033</td><td>&quot;Exacta&quot;</td><td>&quot;CONABIP&quot;</td><td>&quot;1980-01-01&quot;</td><td>3159</td><td>&quot;2023\r&quot;</td></tr><tr><td>90105080</td><td>90</td><td>90105</td><td>null</td><td>&quot;Biblioteca Pop…</td><td>null</td><td>&quot;Tucumán&quot;</td><td>&quot;Tafi Viejo&quot;</td><td>&quot;Tafi Viejo&quot;</td><td>&quot;Bib.Pop. Ing. …</td><td>&quot;Belgrano 253&quot;</td><td>null</td><td>&quot;4103&quot;</td><td>381</td><td>4619066</td><td>null</td><td>null</td><td>null</td><td>-26.733183</td><td>-65.259567</td><td>&quot;Exacta&quot;</td><td>&quot;CONABIP&quot;</td><td>&quot;1923-05-17&quot;</td><td>1170</td><td>&quot;2023\r&quot;</td></tr><tr><td>90105080</td><td>90</td><td>90105</td><td>null</td><td>&quot;Biblioteca Pop…</td><td>null</td><td>&quot;Tucumán&quot;</td><td>&quot;Tafi Viejo&quot;</td><td>&quot;Tafi Viejo&quot;</td><td>&quot;Bib.Pop. Juan …</td><td>&quot;Bolivar 324&quot;</td><td>null</td><td>&quot;4103&quot;</td><td>362</td><td>4461183</td><td>null</td><td>null</td><td>null</td><td>-26.727683</td><td>-65.257883</td><td>&quot;Exacta&quot;</td><td>&quot;CONABIP&quot;</td><td>&quot;1928-09-15&quot;</td><td>1658</td><td>&quot;2023\r&quot;</td></tr><tr><td>90105080</td><td>90</td><td>90105</td><td>null</td><td>&quot;Biblioteca Pop…</td><td>null</td><td>&quot;Tucumán&quot;</td><td>&quot;Tafi Viejo&quot;</td><td>&quot;Tafi Viejo&quot;</td><td>&quot;Bib.Pop. Hipól…</td><td>&quot;Congreso 422&quot;</td><td>null</td><td>&quot;4103&quot;</td><td>381</td><td>4610234</td><td>null</td><td>null</td><td>null</td><td>-26.735717</td><td>-65.256517</td><td>&quot;Exacta&quot;</td><td>&quot;CONABIP&quot;</td><td>&quot;1935-05-05&quot;</td><td>2015</td><td>&quot;2023\r&quot;</td></tr><tr><td>90105100</td><td>90</td><td>90105</td><td>null</td><td>&quot;Biblioteca Pop…</td><td>null</td><td>&quot;Tucumán&quot;</td><td>&quot;Tafi Viejo&quot;</td><td>&quot;Villa M.Moreno…</td><td>&quot;Bib.Pop. Manue…</td><td>&quot;4 s/n 0&quot;</td><td>null</td><td>&quot;4101&quot;</td><td>381</td><td>4370749</td><td>null</td><td>null</td><td>null</td><td>-26.776849</td><td>-65.21021</td><td>&quot;Exacta&quot;</td><td>&quot;CONABIP&quot;</td><td>&quot;1959-11-04&quot;</td><td>2814</td><td>&quot;2023\r&quot;</td></tr><tr><td>90119030</td><td>90</td><td>90119</td><td>null</td><td>&quot;Biblioteca Pop…</td><td>null</td><td>&quot;Tucumán&quot;</td><td>&quot;Yerba Buena&quot;</td><td>&quot;Yerba Buena&quot;</td><td>&quot;Bib.Pop. La Ra…</td><td>&quot;Charcas 835&quot;</td><td>null</td><td>&quot;4107&quot;</td><td>381</td><td>155733076</td><td>&quot;bibliolaranda@…</td><td>null</td><td>null</td><td>-26.82215</td><td>-65.3062</td><td>&quot;Exacta&quot;</td><td>&quot;CONABIP&quot;</td><td>&quot;1980-01-01&quot;</td><td>4158</td><td>&quot;2023&quot;</td></tr></tbody></table></div>"
      ],
      "text/plain": [
       "shape: (1_902, 25)\n",
       "┌────────────┬───────────┬───────────┬───────────┬───┬─────────┬───────────┬───────────┬───────────┐\n",
       "│ cod_locali ┆ id_provin ┆ id_depart ┆ observaci ┆ … ┆ fuente  ┆ fecha_fun ┆ nro_conab ┆ anio_actu │\n",
       "│ dad        ┆ cia       ┆ amento    ┆ on        ┆   ┆ ---     ┆ dacion    ┆ ip        ┆ alizacion\n",
       " │\n",
       "│ ---        ┆ ---       ┆ ---       ┆ ---       ┆   ┆ str     ┆ ---       ┆ ---       ┆ ---       │\n",
       "│ i64        ┆ i64       ┆ i64       ┆ str       ┆   ┆         ┆ str       ┆ i64       ┆ str       │\n",
       "╞════════════╪═══════════╪═══════════╪═══════════╪═══╪═════════╪═══════════╪═══════════╪═══════════╡\n",
       "│ 6854100    ┆ 6         ┆ 6854      ┆ null      ┆ … ┆ CONABIP ┆ 1922-10-0 ┆ 938       ┆ 2023\n",
       "      │\n",
       "│            ┆           ┆           ┆           ┆   ┆         ┆ 2         ┆           ┆           │\n",
       "│ 6588100    ┆ 6         ┆ 6588      ┆ null      ┆ … ┆ CONABIP ┆ 1980-01-0 ┆ 200       ┆ 2023\n",
       "      │\n",
       "│            ┆           ┆           ┆           ┆   ┆         ┆ 1         ┆           ┆           │\n",
       "│ 6588100    ┆ 6         ┆ 6588      ┆ null      ┆ … ┆ CONABIP ┆ 1933-10-1 ┆ 1850      ┆ 2023\n",
       "      │\n",
       "│            ┆           ┆           ┆           ┆   ┆         ┆ 2         ┆           ┆           │\n",
       "│ 6007010    ┆ 6         ┆ 6007      ┆ null      ┆ … ┆ CONABIP ┆ 1912-08-2 ┆ 88        ┆ 2023\n",
       "      │\n",
       "│            ┆           ┆           ┆           ┆   ┆         ┆ 3         ┆           ┆           │\n",
       "│ …          ┆ …         ┆ …         ┆ …         ┆ … ┆ …       ┆ …         ┆ …         ┆ …         │\n",
       "│ 90105080   ┆ 90        ┆ 90105     ┆ null      ┆ … ┆ CONABIP ┆ 1928-09-1 ┆ 1658      ┆ 2023\n",
       "      │\n",
       "│            ┆           ┆           ┆           ┆   ┆         ┆ 5         ┆           ┆           │\n",
       "│ 90105080   ┆ 90        ┆ 90105     ┆ null      ┆ … ┆ CONABIP ┆ 1935-05-0 ┆ 2015      ┆ 2023\n",
       "      │\n",
       "│            ┆           ┆           ┆           ┆   ┆         ┆ 5         ┆           ┆           │\n",
       "│ 90105100   ┆ 90        ┆ 90105     ┆ null      ┆ … ┆ CONABIP ┆ 1959-11-0 ┆ 2814      ┆ 2023\n",
       "      │\n",
       "│            ┆           ┆           ┆           ┆   ┆         ┆ 4         ┆           ┆           │\n",
       "│ 90119030   ┆ 90        ┆ 90119     ┆ null      ┆ … ┆ CONABIP ┆ 1980-01-0 ┆ 4158      ┆ 2023      │\n",
       "│            ┆           ┆           ┆           ┆   ┆         ┆ 1         ┆           ┆           │\n",
       "└────────────┴───────────┴───────────┴───────────┴───┴─────────┴───────────┴───────────┴───────────┘"
      ]
     },
     "execution_count": 25,
     "metadata": {},
     "output_type": "execute_result"
    }
   ],
   "source": [
    "df_espacios"
   ]
  },
  {
   "cell_type": "markdown",
   "metadata": {},
   "source": [
    "### Registros totales por categoria"
   ]
  },
  {
   "cell_type": "code",
   "execution_count": 26,
   "metadata": {},
   "outputs": [
    {
     "data": {
      "text/plain": [
       "['cod_localidad',\n",
       " 'id_provincia',\n",
       " 'id_departamento',\n",
       " 'observacion',\n",
       " 'categoría',\n",
       " 'subcategoria',\n",
       " 'provincia',\n",
       " 'departamento',\n",
       " 'localidad',\n",
       " 'nombre',\n",
       " 'domicilio',\n",
       " 'piso',\n",
       " 'código postal',\n",
       " 'cod_tel',\n",
       " 'número de teléfono',\n",
       " 'mail',\n",
       " 'web',\n",
       " 'informacion_adicional',\n",
       " 'latitud',\n",
       " 'longitud',\n",
       " 'tipo_latitud_longitud',\n",
       " 'fuente',\n",
       " 'fecha_fundacion',\n",
       " 'nro_conabip',\n",
       " 'anio_actualizacion\\r']"
      ]
     },
     "execution_count": 26,
     "metadata": {},
     "output_type": "execute_result"
    }
   ],
   "source": [
    "df_espacios.columns"
   ]
  },
  {
   "cell_type": "code",
   "execution_count": 27,
   "metadata": {},
   "outputs": [],
   "source": [
    "list_df: List[pl.DataFrame]=[df_museo,df_cines,df_espacios]\n",
    "\n",
    "list_colums = [\"código postal\", 'número de teléfono', \"mail\", \"web\"]\n",
    "\n",
    "#normalize columns type\n",
    "for df in list_df:\n",
    "    for col in list_colums:\n",
    "        if col in df.columns:\n",
    "            try:\n",
    "                df = df.with_columns(pl.col(col).cast(str))\n",
    "            except Exception as e:\n",
    "                # polars errors cant be catched with try except\n",
    "                print(\"error\")\n"
   ]
  },
  {
   "cell_type": "code",
   "execution_count": 30,
   "metadata": {},
   "outputs": [],
   "source": [
    "df_espacios = df_espacios.with_columns(pl.col(list_colums[1]).cast(str))"
   ]
  },
  {
   "cell_type": "code",
   "execution_count": 33,
   "metadata": {},
   "outputs": [
    {
     "data": {
      "text/html": [
       "<div><style>\n",
       ".dataframe > thead > tr > th,\n",
       ".dataframe > tbody > tr > td {\n",
       "  text-align: right;\n",
       "  white-space: pre-wrap;\n",
       "}\n",
       "</style>\n",
       "<small>shape: (5, 25)</small><table border=\"1\" class=\"dataframe\"><thead><tr><th>cod_localidad</th><th>id_provincia</th><th>id_departamento</th><th>observacion</th><th>categoría</th><th>subcategoria</th><th>provincia</th><th>departamento</th><th>localidad</th><th>nombre</th><th>domicilio</th><th>piso</th><th>código postal</th><th>cod_tel</th><th>número de teléfono</th><th>mail</th><th>web</th><th>informacion_adicional</th><th>latitud</th><th>longitud</th><th>tipo_latitud_longitud</th><th>fuente</th><th>fecha_fundacion</th><th>nro_conabip</th><th>anio_actualizacion\r</th></tr><tr><td>i64</td><td>i64</td><td>i64</td><td>str</td><td>str</td><td>str</td><td>str</td><td>str</td><td>str</td><td>str</td><td>str</td><td>str</td><td>str</td><td>i64</td><td>str</td><td>str</td><td>str</td><td>str</td><td>f64</td><td>f64</td><td>str</td><td>str</td><td>str</td><td>i64</td><td>str</td></tr></thead><tbody><tr><td>6833060</td><td>6</td><td>6833</td><td>null</td><td>&quot;Biblioteca Pop…</td><td>null</td><td>&quot;Buenos Aires&quot;</td><td>&quot;Tres Arroyos&quot;</td><td>&quot;Orense&quot;</td><td>&quot;Bib.Pop.Pub. A…</td><td>&quot;J.P.de Riglos …</td><td>null</td><td>&quot;B7503AZA&quot;</td><td>2982</td><td>&quot;420101&quot;</td><td>&quot;catriel_h@hotm…</td><td>null</td><td>null</td><td>-38.687417</td><td>-59.782333</td><td>&quot;Exacta&quot;</td><td>&quot;CONABIP&quot;</td><td>&quot;1927-08-27&quot;</td><td>1299</td><td>&quot;2023\r&quot;</td></tr><tr><td>26105010</td><td>26</td><td>26105</td><td>null</td><td>&quot;Biblioteca Pop…</td><td>null</td><td>&quot;Chubut&quot;</td><td>&quot;Telsen&quot;</td><td>&quot;Gan-Gan&quot;</td><td>&quot;Bib.Pop. Narlu…</td><td>&quot;Av.Omar A.Mont…</td><td>null</td><td>&quot;9121&quot;</td><td>0</td><td>&quot;0&quot;</td><td>null</td><td>null</td><td>null</td><td>-42.521117</td><td>-68.2851</td><td>&quot;Exacta&quot;</td><td>&quot;CONABIP&quot;</td><td>&quot;1980-01-01&quot;</td><td>3584</td><td>&quot;2023\r&quot;</td></tr><tr><td>82091220</td><td>82</td><td>82091</td><td>null</td><td>&quot;Biblioteca Pop…</td><td>null</td><td>&quot;Santa Fe&quot;</td><td>&quot;San Cristobal&quot;</td><td>&quot;San Cristóbal&quot;</td><td>&quot;Bib.Pop. San M…</td><td>&quot;Alvear 646&quot;</td><td>null</td><td>&quot;3070&quot;</td><td>3408</td><td>&quot;423835&quot;</td><td>&quot;bibliotecapop_…</td><td>null</td><td>null</td><td>-30.31085</td><td>-61.23295</td><td>&quot;Exacta&quot;</td><td>&quot;CONABIP&quot;</td><td>&quot;1910-12-03&quot;</td><td>460</td><td>&quot;2023\r&quot;</td></tr><tr><td>6875060</td><td>6</td><td>6875</td><td>null</td><td>&quot;Biblioteca Pop…</td><td>null</td><td>&quot;Buenos Aires&quot;</td><td>&quot;Villariño&quot;</td><td>&quot;Médanos&quot;</td><td>&quot;Bib.Pop. Barto…</td><td>&quot;Bartolomé Mitr…</td><td>null</td><td>&quot;8132&quot;</td><td>2927</td><td>&quot;432003&quot;</td><td>&quot;bbcamitre@yaho…</td><td>null</td><td>null</td><td>-38.82858</td><td>-62.694325</td><td>&quot;Exacta&quot;</td><td>&quot;CONABIP&quot;</td><td>&quot;1939-04-24&quot;</td><td>2040</td><td>&quot;2023\r&quot;</td></tr><tr><td>14182210</td><td>14</td><td>14182</td><td>null</td><td>&quot;Biblioteca Pop…</td><td>null</td><td>&quot;Córdoba&quot;</td><td>&quot;Union&quot;</td><td>&quot;Pascanas&quot;</td><td>&quot;Bib.Pop. Pasca…</td><td>&quot;Rivadavia 258&quot;</td><td>null</td><td>&quot;2679&quot;</td><td>353</td><td>&quot;4898075&quot;</td><td>&quot;atleticopascan…</td><td>null</td><td>null</td><td>-33.1247</td><td>-63.03925</td><td>&quot;Exacta&quot;</td><td>&quot;CONABIP&quot;</td><td>&quot;1931-01-01&quot;</td><td>1837</td><td>&quot;2023\r&quot;</td></tr></tbody></table></div>"
      ],
      "text/plain": [
       "shape: (5, 25)\n",
       "┌────────────┬───────────┬───────────┬───────────┬───┬─────────┬───────────┬───────────┬───────────┐\n",
       "│ cod_locali ┆ id_provin ┆ id_depart ┆ observaci ┆ … ┆ fuente  ┆ fecha_fun ┆ nro_conab ┆ anio_actu │\n",
       "│ dad        ┆ cia       ┆ amento    ┆ on        ┆   ┆ ---     ┆ dacion    ┆ ip        ┆ alizacion\n",
       " │\n",
       "│ ---        ┆ ---       ┆ ---       ┆ ---       ┆   ┆ str     ┆ ---       ┆ ---       ┆ ---       │\n",
       "│ i64        ┆ i64       ┆ i64       ┆ str       ┆   ┆         ┆ str       ┆ i64       ┆ str       │\n",
       "╞════════════╪═══════════╪═══════════╪═══════════╪═══╪═════════╪═══════════╪═══════════╪═══════════╡\n",
       "│ 6833060    ┆ 6         ┆ 6833      ┆ null      ┆ … ┆ CONABIP ┆ 1927-08-2 ┆ 1299      ┆ 2023\n",
       "      │\n",
       "│            ┆           ┆           ┆           ┆   ┆         ┆ 7         ┆           ┆           │\n",
       "│ 26105010   ┆ 26        ┆ 26105     ┆ null      ┆ … ┆ CONABIP ┆ 1980-01-0 ┆ 3584      ┆ 2023\n",
       "      │\n",
       "│            ┆           ┆           ┆           ┆   ┆         ┆ 1         ┆           ┆           │\n",
       "│ 82091220   ┆ 82        ┆ 82091     ┆ null      ┆ … ┆ CONABIP ┆ 1910-12-0 ┆ 460       ┆ 2023\n",
       "      │\n",
       "│            ┆           ┆           ┆           ┆   ┆         ┆ 3         ┆           ┆           │\n",
       "│ 6875060    ┆ 6         ┆ 6875      ┆ null      ┆ … ┆ CONABIP ┆ 1939-04-2 ┆ 2040      ┆ 2023\n",
       "      │\n",
       "│            ┆           ┆           ┆           ┆   ┆         ┆ 4         ┆           ┆           │\n",
       "│ 14182210   ┆ 14        ┆ 14182     ┆ null      ┆ … ┆ CONABIP ┆ 1931-01-0 ┆ 1837      ┆ 2023\n",
       "      │\n",
       "│            ┆           ┆           ┆           ┆   ┆         ┆ 1         ┆           ┆           │\n",
       "└────────────┴───────────┴───────────┴───────────┴───┴─────────┴───────────┴───────────┴───────────┘"
      ]
     },
     "execution_count": 33,
     "metadata": {},
     "output_type": "execute_result"
    }
   ],
   "source": [
    "df_espacios.sample(5)"
   ]
  },
  {
   "cell_type": "code",
   "execution_count": 28,
   "metadata": {},
   "outputs": [
    {
     "data": {
      "text/plain": [
       "['cod_localidad',\n",
       " 'id_provincia',\n",
       " 'id_departamento',\n",
       " 'categoría',\n",
       " 'subcategoria',\n",
       " 'provincia',\n",
       " 'localidad',\n",
       " 'nombre',\n",
       " 'domicilio',\n",
       " 'piso',\n",
       " 'código postal',\n",
       " 'número de teléfono',\n",
       " 'mail',\n",
       " 'web',\n",
       " 'fuente']"
      ]
     },
     "execution_count": 28,
     "metadata": {},
     "output_type": "execute_result"
    }
   ],
   "source": [
    "[i for i in df_museo.columns if i in df_espacios.columns]"
   ]
  },
  {
   "cell_type": "code",
   "execution_count": 32,
   "metadata": {},
   "outputs": [
    {
     "ename": "ShapeError",
     "evalue": "unable to vstack, dtypes for column \"número de teléfono\" don't match: `str` and `i64`",
     "output_type": "error",
     "traceback": [
      "\u001b[1;31m---------------------------------------------------------------------------\u001b[0m",
      "\u001b[1;31mShapeError\u001b[0m                                Traceback (most recent call last)",
      "\u001b[1;32mc:\\Users\\joan1\\OneDrive\\Documentos\\Programacion\\Python\\Analisis de datos publicos ARG\\Revision de datos con polars.ipynb Cell 38\u001b[0m line \u001b[0;36m2\n\u001b[0;32m      <a href='vscode-notebook-cell:/c%3A/Users/joan1/OneDrive/Documentos/Programacion/Python/Analisis%20de%20datos%20publicos%20ARG/Revision%20de%20datos%20con%20polars.ipynb#X46sZmlsZQ%3D%3D?line=0'>1</a>\u001b[0m \u001b[39m# concatenate dfs\u001b[39;00m\n\u001b[1;32m----> <a href='vscode-notebook-cell:/c%3A/Users/joan1/OneDrive/Documentos/Programacion/Python/Analisis%20de%20datos%20publicos%20ARG/Revision%20de%20datos%20con%20polars.ipynb#X46sZmlsZQ%3D%3D?line=1'>2</a>\u001b[0m pl\u001b[39m.\u001b[39;49mconcat(list_df, how\u001b[39m=\u001b[39;49m\u001b[39m\"\u001b[39;49m\u001b[39mdiagonal\u001b[39;49m\u001b[39m\"\u001b[39;49m)\n",
      "File \u001b[1;32mc:\\Users\\joan1\\OneDrive\\Documentos\\Programacion\\Python\\Analisis de datos publicos ARG\\venv\\lib\\site-packages\\polars\\functions\\eager.py:179\u001b[0m, in \u001b[0;36mconcat\u001b[1;34m(items, how, rechunk, parallel)\u001b[0m\n\u001b[0;32m    170\u001b[0m     out \u001b[39m=\u001b[39m wrap_ldf(\n\u001b[0;32m    171\u001b[0m         plr\u001b[39m.\u001b[39mconcat_lf(\n\u001b[0;32m    172\u001b[0m             [df\u001b[39m.\u001b[39mlazy() \u001b[39mfor\u001b[39;00m df \u001b[39min\u001b[39;00m elems],\n\u001b[1;32m   (...)\u001b[0m\n\u001b[0;32m    176\u001b[0m         )\n\u001b[0;32m    177\u001b[0m     )\u001b[39m.\u001b[39mcollect(no_optimization\u001b[39m=\u001b[39m\u001b[39mTrue\u001b[39;00m)\n\u001b[0;32m    178\u001b[0m \u001b[39melif\u001b[39;00m how \u001b[39m==\u001b[39m \u001b[39m\"\u001b[39m\u001b[39mdiagonal\u001b[39m\u001b[39m\"\u001b[39m:\n\u001b[1;32m--> 179\u001b[0m     out \u001b[39m=\u001b[39m wrap_df(plr\u001b[39m.\u001b[39;49mdiag_concat_df(elems))\n\u001b[0;32m    180\u001b[0m \u001b[39melif\u001b[39;00m how \u001b[39m==\u001b[39m \u001b[39m\"\u001b[39m\u001b[39mhorizontal\u001b[39m\u001b[39m\"\u001b[39m:\n\u001b[0;32m    181\u001b[0m     out \u001b[39m=\u001b[39m wrap_df(plr\u001b[39m.\u001b[39mhor_concat_df(elems))\n",
      "\u001b[1;31mShapeError\u001b[0m: unable to vstack, dtypes for column \"número de teléfono\" don't match: `str` and `i64`"
     ]
    }
   ],
   "source": [
    "\n",
    "# concatenate dfs\n",
    "pl.concat(list_df, how=\"diagonal\")"
   ]
  },
  {
   "cell_type": "code",
   "execution_count": null,
   "metadata": {},
   "outputs": [
    {
     "data": {
      "text/html": [
       "<div><style>\n",
       ".dataframe > thead > tr > th,\n",
       ".dataframe > tbody > tr > td {\n",
       "  text-align: right;\n",
       "  white-space: pre-wrap;\n",
       "}\n",
       "</style>\n",
       "<small>shape: (3, 2)</small><table border=\"1\" class=\"dataframe\"><thead><tr><th>categoría</th><th>registros_totales</th></tr><tr><td>str</td><td>i64</td></tr></thead><tbody><tr><td>&quot;museo&quot;</td><td>1182</td></tr><tr><td>&quot;cines&quot;</td><td>316</td></tr><tr><td>&quot;espacios&quot;</td><td>1902</td></tr></tbody></table></div>"
      ],
      "text/plain": [
       "shape: (3, 2)\n",
       "┌───────────┬───────────────────┐\n",
       "│ categoría ┆ registros_totales │\n",
       "│ ---       ┆ ---               │\n",
       "│ str       ┆ i64               │\n",
       "╞═══════════╪═══════════════════╡\n",
       "│ museo     ┆ 1182              │\n",
       "│ cines     ┆ 316               │\n",
       "│ espacios  ┆ 1902              │\n",
       "└───────────┴───────────────────┘"
      ]
     },
     "execution_count": 31,
     "metadata": {},
     "output_type": "execute_result"
    }
   ],
   "source": [
    "df_registers_totales_by_category"
   ]
  },
  {
   "cell_type": "markdown",
   "metadata": {},
   "source": [
    "### registros totales por provincia"
   ]
  },
  {
   "cell_type": "code",
   "execution_count": null,
   "metadata": {},
   "outputs": [],
   "source": []
  },
  {
   "cell_type": "markdown",
   "metadata": {},
   "source": []
  }
 ],
 "metadata": {
  "kernelspec": {
   "display_name": "venv",
   "language": "python",
   "name": "python3"
  },
  "language_info": {
   "codemirror_mode": {
    "name": "ipython",
    "version": 3
   },
   "file_extension": ".py",
   "mimetype": "text/x-python",
   "name": "python",
   "nbconvert_exporter": "python",
   "pygments_lexer": "ipython3",
   "version": "3.10.11"
  },
  "orig_nbformat": 4
 },
 "nbformat": 4,
 "nbformat_minor": 2
}
